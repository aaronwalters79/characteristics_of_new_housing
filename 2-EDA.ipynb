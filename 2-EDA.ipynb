{
 "cells": [
  {
   "cell_type": "markdown",
   "metadata": {},
   "source": [
    "## Characteristics of New Housing\n",
    "\n",
    "This page provides national, annual data on the characteristics of new privately-owned residential structures, such as square footage, number of bedrooms and bathrooms, type of wall material, and sales prices. Many characteristics are available at the region level.  https://www.census.gov/construction/chars/\n",
    "\n",
    "This notebook contains basic statistical analysis and visualization of the data.\n",
    "\n",
    "### Data Sources\n",
    "- summary : Processed file from notebook 1-Data_Prep\n",
    "\n",
    "### Changes\n",
    "- 12-29-2018 : Started project"
   ]
  },
  {
   "cell_type": "code",
   "execution_count": 13,
   "metadata": {},
   "outputs": [],
   "source": [
    "import pandas as pd\n",
    "from pathlib import Path\n",
    "from datetime import datetime\n",
    "#import seaborn as sns\n",
    "import feather\n",
    "import matplotlib.pyplot as plt\n",
    "import matplotlib.dates as mdates\n",
    "from matplotlib import style\n",
    "style.use('fivethirtyeight')\n",
    "%matplotlib inline"
   ]
  },
  {
   "cell_type": "code",
   "execution_count": null,
   "metadata": {},
   "outputs": [],
   "source": []
  },
  {
   "cell_type": "markdown",
   "metadata": {},
   "source": [
    "### File Locations"
   ]
  },
  {
   "cell_type": "code",
   "execution_count": 14,
   "metadata": {},
   "outputs": [],
   "source": [
    "today = datetime.today()\n",
    "in_file = Path.cwd() / \"data\" / \"processed\" / f\"summary_{today:%b-%d-%Y}.feather\"\n",
    "report_dir = Path.cwd() / \"reports\"\n",
    "report_file = report_dir / \"Excel_Analysis_{today:%b-%d-%Y}.xlsx\""
   ]
  },
  {
   "cell_type": "code",
   "execution_count": 15,
   "metadata": {},
   "outputs": [
    {
     "data": {
      "text/html": [
       "<div>\n",
       "<style scoped>\n",
       "    .dataframe tbody tr th:only-of-type {\n",
       "        vertical-align: middle;\n",
       "    }\n",
       "\n",
       "    .dataframe tbody tr th {\n",
       "        vertical-align: top;\n",
       "    }\n",
       "\n",
       "    .dataframe thead th {\n",
       "        text-align: right;\n",
       "    }\n",
       "</style>\n",
       "<table border=\"1\" class=\"dataframe\">\n",
       "  <thead>\n",
       "    <tr style=\"text-align: right;\">\n",
       "      <th></th>\n",
       "      <th>CentralAir</th>\n",
       "      <th>RestrictedAge</th>\n",
       "      <th>HomeOwnerAssociation</th>\n",
       "      <th>FoundationType</th>\n",
       "      <th>BuildReason</th>\n",
       "      <th>ClosingCostsInc</th>\n",
       "      <th>CondominiumProject</th>\n",
       "      <th>Deck</th>\n",
       "      <th>HouseDesign</th>\n",
       "      <th>CensusDivision</th>\n",
       "      <th>...</th>\n",
       "      <th>PriceContract</th>\n",
       "      <th>PriceSales</th>\n",
       "      <th>FootagePrelimSQFT</th>\n",
       "      <th>SurveyWieght</th>\n",
       "      <th>HeatingSystemFuelPrimary</th>\n",
       "      <th>HeatingSystemFuelSecondary</th>\n",
       "      <th>PriceContractAtCompletion</th>\n",
       "      <th>PriceSalesAtCompletion</th>\n",
       "      <th>PermitAuthorizationDate</th>\n",
       "      <th>FILENAME</th>\n",
       "    </tr>\n",
       "  </thead>\n",
       "  <tbody>\n",
       "    <tr>\n",
       "      <th>0</th>\n",
       "      <td>Yes</td>\n",
       "      <td>No</td>\n",
       "      <td>No</td>\n",
       "      <td>Basement</td>\n",
       "      <td>SaleOrRent</td>\n",
       "      <td>0</td>\n",
       "      <td>NaN</td>\n",
       "      <td>Yes</td>\n",
       "      <td>No</td>\n",
       "      <td>New England</td>\n",
       "      <td>...</td>\n",
       "      <td>NaN</td>\n",
       "      <td>NaN</td>\n",
       "      <td>NaN</td>\n",
       "      <td>51.0</td>\n",
       "      <td>Electricity</td>\n",
       "      <td>NaN</td>\n",
       "      <td>NaN</td>\n",
       "      <td>NaN</td>\n",
       "      <td>2010-01-01</td>\n",
       "      <td>soc10</td>\n",
       "    </tr>\n",
       "    <tr>\n",
       "      <th>1</th>\n",
       "      <td>Yes</td>\n",
       "      <td>No</td>\n",
       "      <td>Yes</td>\n",
       "      <td>Slab</td>\n",
       "      <td>SaleOrRent</td>\n",
       "      <td>0</td>\n",
       "      <td>NaN</td>\n",
       "      <td>Yes</td>\n",
       "      <td>No</td>\n",
       "      <td>New England</td>\n",
       "      <td>...</td>\n",
       "      <td>NaN</td>\n",
       "      <td>NaN</td>\n",
       "      <td>1879.0</td>\n",
       "      <td>31.0</td>\n",
       "      <td>Nat Gas</td>\n",
       "      <td>NaN</td>\n",
       "      <td>NaN</td>\n",
       "      <td>NaN</td>\n",
       "      <td>2009-10-01</td>\n",
       "      <td>soc10</td>\n",
       "    </tr>\n",
       "    <tr>\n",
       "      <th>2</th>\n",
       "      <td>Yes</td>\n",
       "      <td>No</td>\n",
       "      <td>No</td>\n",
       "      <td>Basement</td>\n",
       "      <td>SaleOrRent</td>\n",
       "      <td>0</td>\n",
       "      <td>No</td>\n",
       "      <td>No</td>\n",
       "      <td>Yes</td>\n",
       "      <td>New England</td>\n",
       "      <td>...</td>\n",
       "      <td>NaN</td>\n",
       "      <td>NaN</td>\n",
       "      <td>5076.0</td>\n",
       "      <td>31.0</td>\n",
       "      <td>Nat Gas</td>\n",
       "      <td>NaN</td>\n",
       "      <td>NaN</td>\n",
       "      <td>NaN</td>\n",
       "      <td>2009-07-01</td>\n",
       "      <td>soc10</td>\n",
       "    </tr>\n",
       "    <tr>\n",
       "      <th>3</th>\n",
       "      <td>Yes</td>\n",
       "      <td>No</td>\n",
       "      <td>No</td>\n",
       "      <td>Basement</td>\n",
       "      <td>SaleOrRent</td>\n",
       "      <td>0</td>\n",
       "      <td>NaN</td>\n",
       "      <td>Yes</td>\n",
       "      <td>Yes</td>\n",
       "      <td>New England</td>\n",
       "      <td>...</td>\n",
       "      <td>NaN</td>\n",
       "      <td>NaN</td>\n",
       "      <td>3717.0</td>\n",
       "      <td>24.0</td>\n",
       "      <td>Electricity</td>\n",
       "      <td>OtherOrNone</td>\n",
       "      <td>NaN</td>\n",
       "      <td>NaN</td>\n",
       "      <td>2010-12-01</td>\n",
       "      <td>soc10</td>\n",
       "    </tr>\n",
       "    <tr>\n",
       "      <th>4</th>\n",
       "      <td>Yes</td>\n",
       "      <td>No</td>\n",
       "      <td>Yes</td>\n",
       "      <td>Basement</td>\n",
       "      <td>SaleOrRent</td>\n",
       "      <td>0</td>\n",
       "      <td>Yes</td>\n",
       "      <td>Yes</td>\n",
       "      <td>No</td>\n",
       "      <td>New England</td>\n",
       "      <td>...</td>\n",
       "      <td>NaN</td>\n",
       "      <td>289900.0</td>\n",
       "      <td>1335.0</td>\n",
       "      <td>31.0</td>\n",
       "      <td>Nat Gas</td>\n",
       "      <td>NaN</td>\n",
       "      <td>NaN</td>\n",
       "      <td>NaN</td>\n",
       "      <td>2009-09-01</td>\n",
       "      <td>soc10</td>\n",
       "    </tr>\n",
       "  </tbody>\n",
       "</table>\n",
       "<p>5 rows × 51 columns</p>\n",
       "</div>"
      ],
      "text/plain": [
       "  CentralAir RestrictedAge HomeOwnerAssociation FoundationType BuildReason  \\\n",
       "0        Yes            No                   No       Basement  SaleOrRent   \n",
       "1        Yes            No                  Yes           Slab  SaleOrRent   \n",
       "2        Yes            No                   No       Basement  SaleOrRent   \n",
       "3        Yes            No                   No       Basement  SaleOrRent   \n",
       "4        Yes            No                  Yes       Basement  SaleOrRent   \n",
       "\n",
       "   ClosingCostsInc CondominiumProject Deck HouseDesign CensusDivision  \\\n",
       "0                0                NaN  Yes          No    New England   \n",
       "1                0                NaN  Yes          No    New England   \n",
       "2                0                 No   No         Yes    New England   \n",
       "3                0                NaN  Yes         Yes    New England   \n",
       "4                0                Yes  Yes          No    New England   \n",
       "\n",
       "    ...    PriceContract PriceSales  FootagePrelimSQFT SurveyWieght  \\\n",
       "0   ...              NaN        NaN                NaN         51.0   \n",
       "1   ...              NaN        NaN             1879.0         31.0   \n",
       "2   ...              NaN        NaN             5076.0         31.0   \n",
       "3   ...              NaN        NaN             3717.0         24.0   \n",
       "4   ...              NaN   289900.0             1335.0         31.0   \n",
       "\n",
       "  HeatingSystemFuelPrimary HeatingSystemFuelSecondary  \\\n",
       "0              Electricity                        NaN   \n",
       "1                  Nat Gas                        NaN   \n",
       "2                  Nat Gas                        NaN   \n",
       "3              Electricity                OtherOrNone   \n",
       "4                  Nat Gas                        NaN   \n",
       "\n",
       "  PriceContractAtCompletion PriceSalesAtCompletion PermitAuthorizationDate  \\\n",
       "0                       NaN                    NaN              2010-01-01   \n",
       "1                       NaN                    NaN              2009-10-01   \n",
       "2                       NaN                    NaN              2009-07-01   \n",
       "3                       NaN                    NaN              2010-12-01   \n",
       "4                       NaN                    NaN              2009-09-01   \n",
       "\n",
       "  FILENAME  \n",
       "0    soc10  \n",
       "1    soc10  \n",
       "2    soc10  \n",
       "3    soc10  \n",
       "4    soc10  \n",
       "\n",
       "[5 rows x 51 columns]"
      ]
     },
     "execution_count": 15,
     "metadata": {},
     "output_type": "execute_result"
    }
   ],
   "source": [
    "df = feather.read_dataframe(in_file)\n",
    "df.head()"
   ]
  },
  {
   "cell_type": "code",
   "execution_count": 16,
   "metadata": {},
   "outputs": [],
   "source": [
    "df.set_index('PermitAuthorizationDate', inplace=True)"
   ]
  },
  {
   "cell_type": "markdown",
   "metadata": {},
   "source": [
    "### Perform Data Analysis"
   ]
  },
  {
   "cell_type": "code",
   "execution_count": 6,
   "metadata": {},
   "outputs": [
    {
     "data": {
      "text/plain": [
       "<matplotlib.axes._subplots.AxesSubplot at 0x11ede2780>"
      ]
     },
     "execution_count": 6,
     "metadata": {},
     "output_type": "execute_result"
    },
    {
     "data": {
      "image/png": "[encoded data removed]",
      "text/plain": [
       "<Figure size 432x288 with 1 Axes>"
      ]
     },
     "metadata": {},
     "output_type": "display_data"
    }
   ],
   "source": [
    "df.loc[df['RestrictedAge'] =='Yes','FootagePrelimSQFT'].hist()"
   ]
  },
  {
   "cell_type": "code",
   "execution_count": 9,
   "metadata": {},
   "outputs": [
    {
     "data": {
      "text/plain": [
       "<matplotlib.axes._subplots.AxesSubplot at 0x11fce97b8>"
      ]
     },
     "execution_count": 9,
     "metadata": {},
     "output_type": "execute_result"
    },
    {
     "data": {
      "image/png": "[encoded data removed]",
      "text/plain": [
       "<Figure size 432x288 with 1 Axes>"
      ]
     },
     "metadata": {},
     "output_type": "display_data"
    }
   ],
   "source": [
    "df['FootagePrelimSQFT'].hist()"
   ]
  },
  {
   "cell_type": "code",
   "execution_count": 58,
   "metadata": {},
   "outputs": [
    {
     "data": {
      "text/html": [
       "<div>\n",
       "<style scoped>\n",
       "    .dataframe tbody tr th:only-of-type {\n",
       "        vertical-align: middle;\n",
       "    }\n",
       "\n",
       "    .dataframe tbody tr th {\n",
       "        vertical-align: top;\n",
       "    }\n",
       "\n",
       "    .dataframe thead th {\n",
       "        text-align: right;\n",
       "    }\n",
       "</style>\n",
       "<table border=\"1\" class=\"dataframe\">\n",
       "  <thead>\n",
       "    <tr style=\"text-align: right;\">\n",
       "      <th></th>\n",
       "      <th>FootagePrelimSQFT_Wieght</th>\n",
       "      <th>SurveyWieght</th>\n",
       "    </tr>\n",
       "    <tr>\n",
       "      <th>PermitAuthorizationDate</th>\n",
       "      <th></th>\n",
       "      <th></th>\n",
       "    </tr>\n",
       "  </thead>\n",
       "  <tbody>\n",
       "    <tr>\n",
       "      <th>2000</th>\n",
       "      <td>3156.000000</td>\n",
       "      <td>46.0</td>\n",
       "    </tr>\n",
       "    <tr>\n",
       "      <th>2001</th>\n",
       "      <td>2654.378669</td>\n",
       "      <td>7257.0</td>\n",
       "    </tr>\n",
       "    <tr>\n",
       "      <th>2002</th>\n",
       "      <td>2433.712009</td>\n",
       "      <td>30553.0</td>\n",
       "    </tr>\n",
       "    <tr>\n",
       "      <th>2003</th>\n",
       "      <td>2428.255390</td>\n",
       "      <td>119664.0</td>\n",
       "    </tr>\n",
       "    <tr>\n",
       "      <th>2004</th>\n",
       "      <td>2401.162877</td>\n",
       "      <td>1099377.0</td>\n",
       "    </tr>\n",
       "    <tr>\n",
       "      <th>2005</th>\n",
       "      <td>2389.122220</td>\n",
       "      <td>3075889.0</td>\n",
       "    </tr>\n",
       "    <tr>\n",
       "      <th>2006</th>\n",
       "      <td>2416.364581</td>\n",
       "      <td>2609352.0</td>\n",
       "    </tr>\n",
       "    <tr>\n",
       "      <th>2007</th>\n",
       "      <td>2406.227990</td>\n",
       "      <td>1903873.0</td>\n",
       "    </tr>\n",
       "    <tr>\n",
       "      <th>2008</th>\n",
       "      <td>2365.375704</td>\n",
       "      <td>1046768.0</td>\n",
       "    </tr>\n",
       "    <tr>\n",
       "      <th>2009</th>\n",
       "      <td>2234.194636</td>\n",
       "      <td>772120.0</td>\n",
       "    </tr>\n",
       "  </tbody>\n",
       "</table>\n",
       "</div>"
      ],
      "text/plain": [
       "                         FootagePrelimSQFT_Wieght  SurveyWieght\n",
       "PermitAuthorizationDate                                        \n",
       "2000                                  3156.000000          46.0\n",
       "2001                                  2654.378669        7257.0\n",
       "2002                                  2433.712009       30553.0\n",
       "2003                                  2428.255390      119664.0\n",
       "2004                                  2401.162877     1099377.0\n",
       "2005                                  2389.122220     3075889.0\n",
       "2006                                  2416.364581     2609352.0\n",
       "2007                                  2406.227990     1903873.0\n",
       "2008                                  2365.375704     1046768.0\n",
       "2009                                  2234.194636      772120.0"
      ]
     },
     "execution_count": 58,
     "metadata": {},
     "output_type": "execute_result"
    }
   ],
   "source": [
    "#Properly Wieght A Given Measurment \n",
    "#df['FootagePrelimSQFT'].groupby(by=[df.index.year]).mean()\n",
    "df['FootagePrelimSQFT_Wieght'] = df['FootagePrelimSQFT'] * df['SurveyWieght']\n",
    "\n",
    "df_finalSQFT = df[['FootagePrelimSQFT_Wieght','SurveyWieght']].groupby(by=[df.index.year]).sum()\n",
    "df_finalSQFT['FootagePrelimSQFT_Wieght'] =df_finalSQFT['FootagePrelimSQFT_Wieght'] / df_finalSQFT['SurveyWieght']\n",
    "df_finalSQFT.head(10)"
   ]
  },
  {
   "cell_type": "code",
   "execution_count": 59,
   "metadata": {},
   "outputs": [
    {
     "data": {
      "image/png": "[encoded data removed]",
      "text/plain": [
       "<Figure size 1080x360 with 1 Axes>"
      ]
     },
     "metadata": {},
     "output_type": "display_data"
    }
   ],
   "source": [
    "df_finalSQFT.loc[df_finalSQFT['FootagePrelimSQFT_Wieght']>0 , 'FootagePrelimSQFT_Wieght'].plot(figsize=[15,5])\n",
    "plt.title('Historical Square Footage Average')\n",
    "plt.xlabel('Year')\n",
    "plt.ylabel('Total SQFT')\n",
    "plt.style.use('fivethirtyeight')\n",
    "plt.savefig('./images/averageTotalSqft.png')\n",
    "plt.show()"
   ]
  }
 ],
 "metadata": {
  "kernelspec": {
   "display_name": "Python 3",
   "language": "python",
   "name": "python3"
  },
  "language_info": {
   "codemirror_mode": {
    "name": "ipython",
    "version": 3
   },
   "file_extension": ".py",
   "mimetype": "text/x-python",
   "name": "python",
   "nbconvert_exporter": "python",
   "pygments_lexer": "ipython3",
   "version": "3.7.2"
  }
 },
 "nbformat": 4,
 "nbformat_minor": 1
}
