{
 "cells": [
  {
   "cell_type": "raw",
   "metadata": {},
   "source": [
    "## Characteristics of New Housing\n",
    "\n",
    "This page provides national, annual data on the characteristics of new privately-owned residential structures, such as square footage, number of bedrooms and bathrooms, type of wall material, and sales prices. Many characteristics are available at the region level.  https://www.census.gov/construction/chars/\n",
    "\n",
    "### Data Sources\n",
    "- InputFiles : https://www.census.gov/construction/chars/microdata.html\n",
    "\n",
    "### Changes\n",
    "- 12-29-2018 : Started project\n",
    "\n",
    "\n",
    "### Key Versions\n",
    "pandas = '0.23.4'\n",
    "numpy = '1.15.4'\n",
    "requests = '2.19.1'"
   ]
  },
  {
   "cell_type": "code",
   "execution_count": 1,
   "metadata": {},
   "outputs": [],
   "source": [
    "import pandas as pd\n",
    "from pathlib import Path\n",
    "from datetime import datetime\n",
    "import zipfile\n",
    "import requests\n",
    "import io\n",
    "import glob\n",
    "import numpy as np\n",
    "import feather\n"
   ]
  },
  {
   "cell_type": "markdown",
   "metadata": {},
   "source": [
    "### File Locations"
   ]
  },
  {
   "cell_type": "code",
   "execution_count": 2,
   "metadata": {},
   "outputs": [],
   "source": [
    "today = datetime.today()\n",
    "in_file = Path.cwd() / \"data\" / \"raw\" / \"FILE1\"\n",
    "in_directory = Path.cwd() / \"data\" / \"raw\"\n",
    "summary_file = Path.cwd() / \"data\" / \"processed\" / f\"summary_{today:%b-%d-%Y}.feather\""
   ]
  },
  {
   "cell_type": "markdown",
   "metadata": {},
   "source": [
    "### Load Data from URL Sources\n",
    "\n",
    "Main Page for where to manually download this files.\n",
    "https://www.census.gov/construction/chars/microdata.html"
   ]
  },
  {
   "cell_type": "code",
   "execution_count": 3,
   "metadata": {},
   "outputs": [],
   "source": [
    "file_names = ['soc17.zip','soc16.zip','soc15.zip','soc14.zip','soc13.zip',\n",
    "              'soc12.zip','soc11.zip','soc10.zip','soc09.zip','soc08.zip',\n",
    "              'soc07.zip','soc06.zip','soc05.zip','soc04.zip','soc03.zip',\n",
    "              'soc02.zip','soc01.zip','soc00.zip','soc99.zip']\n",
    "\n",
    "for file in file_names:\n",
    "    fileName = 'soc17.zip'\n",
    "\n",
    "    source_url = 'https://www.census.gov/construction/chars/xls/%s' % file\n",
    "\n",
    "    in_file = Path.cwd() / \"data\" / \"raw\" / file.split('.')[0]\n",
    "    r = requests.get(source_url)\n",
    "    z = zipfile.ZipFile(io.BytesIO(r.content))\n",
    "    z.extractall(in_file)\n",
    "    del in_file\n",
    "    \n"
   ]
  },
  {
   "cell_type": "code",
   "execution_count": 4,
   "metadata": {},
   "outputs": [
    {
     "name": "stdout",
     "output_type": "stream",
     "text": [
      "WARNING *** OLE2 inconsistency: SSCS size is 0 but SSAT size is non-zero\n",
      "WARNING *** OLE2 inconsistency: SSCS size is 0 but SSAT size is non-zero\n",
      "WARNING *** OLE2 inconsistency: SSCS size is 0 but SSAT size is non-zero\n",
      "WARNING *** OLE2 inconsistency: SSCS size is 0 but SSAT size is non-zero\n",
      "WARNING *** OLE2 inconsistency: SSCS size is 0 but SSAT size is non-zero\n",
      "WARNING *** OLE2 inconsistency: SSCS size is 0 but SSAT size is non-zero\n"
     ]
    }
   ],
   "source": [
    "#Compliments: http://pbpython.com/excel-file-combine.html\n",
    "all_data = pd.DataFrame()\n",
    "for f in glob.glob(\"./data/raw/*/*.xls\"):\n",
    "    #print (f.split('/')[-2])\n",
    "    df = pd.read_excel(f)\n",
    "    df['FILENAME'] = f.split('/')[-2]\n",
    "    all_data = all_data.append(df,ignore_index=True, sort=False)\n"
   ]
  },
  {
   "cell_type": "code",
   "execution_count": 5,
   "metadata": {},
   "outputs": [
    {
     "data": {
      "text/html": [
       "<div>\n",
       "<style scoped>\n",
       "    .dataframe tbody tr th:only-of-type {\n",
       "        vertical-align: middle;\n",
       "    }\n",
       "\n",
       "    .dataframe tbody tr th {\n",
       "        vertical-align: top;\n",
       "    }\n",
       "\n",
       "    .dataframe thead th {\n",
       "        text-align: right;\n",
       "    }\n",
       "</style>\n",
       "<table border=\"1\" class=\"dataframe\">\n",
       "  <thead>\n",
       "    <tr style=\"text-align: right;\">\n",
       "      <th></th>\n",
       "      <th>ACS</th>\n",
       "      <th>AGER</th>\n",
       "      <th>ASSOC</th>\n",
       "      <th>BASE</th>\n",
       "      <th>CAT</th>\n",
       "      <th>CLOS</th>\n",
       "      <th>CON</th>\n",
       "      <th>DECK</th>\n",
       "      <th>DET</th>\n",
       "      <th>DIV</th>\n",
       "      <th>...</th>\n",
       "      <th>SLPR_F</th>\n",
       "      <th>FSLPR_F</th>\n",
       "      <th>CONPR_F</th>\n",
       "      <th>FCONPR_F</th>\n",
       "      <th>LOTV_F</th>\n",
       "      <th>SQFS_F</th>\n",
       "      <th>FSQFS_F</th>\n",
       "      <th>PVALU_F</th>\n",
       "      <th>AUTH</th>\n",
       "      <th>ID</th>\n",
       "    </tr>\n",
       "  </thead>\n",
       "  <tbody>\n",
       "    <tr>\n",
       "      <th>count</th>\n",
       "      <td>301161.000000</td>\n",
       "      <td>180855.000000</td>\n",
       "      <td>180855.000000</td>\n",
       "      <td>301161.000000</td>\n",
       "      <td>301161.000000</td>\n",
       "      <td>301161.000000</td>\n",
       "      <td>301161.000000</td>\n",
       "      <td>301161.000000</td>\n",
       "      <td>301161.000000</td>\n",
       "      <td>301161.000000</td>\n",
       "      <td>...</td>\n",
       "      <td>301161.000000</td>\n",
       "      <td>180855.000000</td>\n",
       "      <td>301161.000000</td>\n",
       "      <td>180855.000000</td>\n",
       "      <td>301161.000000</td>\n",
       "      <td>301161.000000</td>\n",
       "      <td>180855.000000</td>\n",
       "      <td>180855.000000</td>\n",
       "      <td>301161.000000</td>\n",
       "      <td>23690.000000</td>\n",
       "    </tr>\n",
       "    <tr>\n",
       "      <th>mean</th>\n",
       "      <td>1.055562</td>\n",
       "      <td>1.955981</td>\n",
       "      <td>1.441824</td>\n",
       "      <td>2.170513</td>\n",
       "      <td>1.465147</td>\n",
       "      <td>0.290705</td>\n",
       "      <td>1.069471</td>\n",
       "      <td>1.651167</td>\n",
       "      <td>1.130219</td>\n",
       "      <td>5.547455</td>\n",
       "      <td>...</td>\n",
       "      <td>0.018395</td>\n",
       "      <td>0.008051</td>\n",
       "      <td>0.004147</td>\n",
       "      <td>0.000852</td>\n",
       "      <td>0.017203</td>\n",
       "      <td>0.016048</td>\n",
       "      <td>0.006950</td>\n",
       "      <td>0.023284</td>\n",
       "      <td>201001.413347</td>\n",
       "      <td>11845.500000</td>\n",
       "    </tr>\n",
       "    <tr>\n",
       "      <th>std</th>\n",
       "      <td>0.343233</td>\n",
       "      <td>0.242787</td>\n",
       "      <td>0.543178</td>\n",
       "      <td>0.955265</td>\n",
       "      <td>0.815327</td>\n",
       "      <td>0.678865</td>\n",
       "      <td>0.977609</td>\n",
       "      <td>0.561376</td>\n",
       "      <td>0.343334</td>\n",
       "      <td>2.284721</td>\n",
       "      <td>...</td>\n",
       "      <td>0.134377</td>\n",
       "      <td>0.089364</td>\n",
       "      <td>0.064266</td>\n",
       "      <td>0.029168</td>\n",
       "      <td>0.130080</td>\n",
       "      <td>0.125660</td>\n",
       "      <td>0.083079</td>\n",
       "      <td>0.150804</td>\n",
       "      <td>410.625328</td>\n",
       "      <td>6838.858275</td>\n",
       "    </tr>\n",
       "    <tr>\n",
       "      <th>min</th>\n",
       "      <td>0.000000</td>\n",
       "      <td>0.000000</td>\n",
       "      <td>0.000000</td>\n",
       "      <td>0.000000</td>\n",
       "      <td>1.000000</td>\n",
       "      <td>0.000000</td>\n",
       "      <td>0.000000</td>\n",
       "      <td>0.000000</td>\n",
       "      <td>0.000000</td>\n",
       "      <td>1.000000</td>\n",
       "      <td>...</td>\n",
       "      <td>0.000000</td>\n",
       "      <td>0.000000</td>\n",
       "      <td>0.000000</td>\n",
       "      <td>0.000000</td>\n",
       "      <td>0.000000</td>\n",
       "      <td>0.000000</td>\n",
       "      <td>0.000000</td>\n",
       "      <td>0.000000</td>\n",
       "      <td>200002.000000</td>\n",
       "      <td>1.000000</td>\n",
       "    </tr>\n",
       "    <tr>\n",
       "      <th>25%</th>\n",
       "      <td>1.000000</td>\n",
       "      <td>2.000000</td>\n",
       "      <td>1.000000</td>\n",
       "      <td>1.000000</td>\n",
       "      <td>1.000000</td>\n",
       "      <td>0.000000</td>\n",
       "      <td>0.000000</td>\n",
       "      <td>1.000000</td>\n",
       "      <td>1.000000</td>\n",
       "      <td>4.000000</td>\n",
       "      <td>...</td>\n",
       "      <td>0.000000</td>\n",
       "      <td>0.000000</td>\n",
       "      <td>0.000000</td>\n",
       "      <td>0.000000</td>\n",
       "      <td>0.000000</td>\n",
       "      <td>0.000000</td>\n",
       "      <td>0.000000</td>\n",
       "      <td>0.000000</td>\n",
       "      <td>200609.000000</td>\n",
       "      <td>5923.250000</td>\n",
       "    </tr>\n",
       "    <tr>\n",
       "      <th>50%</th>\n",
       "      <td>1.000000</td>\n",
       "      <td>2.000000</td>\n",
       "      <td>1.000000</td>\n",
       "      <td>3.000000</td>\n",
       "      <td>1.000000</td>\n",
       "      <td>0.000000</td>\n",
       "      <td>2.000000</td>\n",
       "      <td>2.000000</td>\n",
       "      <td>1.000000</td>\n",
       "      <td>5.000000</td>\n",
       "      <td>...</td>\n",
       "      <td>0.000000</td>\n",
       "      <td>0.000000</td>\n",
       "      <td>0.000000</td>\n",
       "      <td>0.000000</td>\n",
       "      <td>0.000000</td>\n",
       "      <td>0.000000</td>\n",
       "      <td>0.000000</td>\n",
       "      <td>0.000000</td>\n",
       "      <td>201002.000000</td>\n",
       "      <td>11845.500000</td>\n",
       "    </tr>\n",
       "    <tr>\n",
       "      <th>75%</th>\n",
       "      <td>1.000000</td>\n",
       "      <td>2.000000</td>\n",
       "      <td>2.000000</td>\n",
       "      <td>3.000000</td>\n",
       "      <td>2.000000</td>\n",
       "      <td>0.000000</td>\n",
       "      <td>2.000000</td>\n",
       "      <td>2.000000</td>\n",
       "      <td>1.000000</td>\n",
       "      <td>7.000000</td>\n",
       "      <td>...</td>\n",
       "      <td>0.000000</td>\n",
       "      <td>0.000000</td>\n",
       "      <td>0.000000</td>\n",
       "      <td>0.000000</td>\n",
       "      <td>0.000000</td>\n",
       "      <td>0.000000</td>\n",
       "      <td>0.000000</td>\n",
       "      <td>0.000000</td>\n",
       "      <td>201404.000000</td>\n",
       "      <td>17767.750000</td>\n",
       "    </tr>\n",
       "    <tr>\n",
       "      <th>max</th>\n",
       "      <td>2.000000</td>\n",
       "      <td>2.000000</td>\n",
       "      <td>2.000000</td>\n",
       "      <td>4.000000</td>\n",
       "      <td>4.000000</td>\n",
       "      <td>2.000000</td>\n",
       "      <td>2.000000</td>\n",
       "      <td>2.000000</td>\n",
       "      <td>2.000000</td>\n",
       "      <td>9.000000</td>\n",
       "      <td>...</td>\n",
       "      <td>1.000000</td>\n",
       "      <td>1.000000</td>\n",
       "      <td>1.000000</td>\n",
       "      <td>1.000000</td>\n",
       "      <td>2.000000</td>\n",
       "      <td>1.000000</td>\n",
       "      <td>1.000000</td>\n",
       "      <td>1.000000</td>\n",
       "      <td>201803.000000</td>\n",
       "      <td>23690.000000</td>\n",
       "    </tr>\n",
       "  </tbody>\n",
       "</table>\n",
       "<p>8 rows × 62 columns</p>\n",
       "</div>"
      ],
      "text/plain": [
       "                 ACS           AGER          ASSOC           BASE  \\\n",
       "count  301161.000000  180855.000000  180855.000000  301161.000000   \n",
       "mean        1.055562       1.955981       1.441824       2.170513   \n",
       "std         0.343233       0.242787       0.543178       0.955265   \n",
       "min         0.000000       0.000000       0.000000       0.000000   \n",
       "25%         1.000000       2.000000       1.000000       1.000000   \n",
       "50%         1.000000       2.000000       1.000000       3.000000   \n",
       "75%         1.000000       2.000000       2.000000       3.000000   \n",
       "max         2.000000       2.000000       2.000000       4.000000   \n",
       "\n",
       "                 CAT           CLOS            CON           DECK  \\\n",
       "count  301161.000000  301161.000000  301161.000000  301161.000000   \n",
       "mean        1.465147       0.290705       1.069471       1.651167   \n",
       "std         0.815327       0.678865       0.977609       0.561376   \n",
       "min         1.000000       0.000000       0.000000       0.000000   \n",
       "25%         1.000000       0.000000       0.000000       1.000000   \n",
       "50%         1.000000       0.000000       2.000000       2.000000   \n",
       "75%         2.000000       0.000000       2.000000       2.000000   \n",
       "max         4.000000       2.000000       2.000000       2.000000   \n",
       "\n",
       "                 DET            DIV      ...              SLPR_F  \\\n",
       "count  301161.000000  301161.000000      ...       301161.000000   \n",
       "mean        1.130219       5.547455      ...            0.018395   \n",
       "std         0.343334       2.284721      ...            0.134377   \n",
       "min         0.000000       1.000000      ...            0.000000   \n",
       "25%         1.000000       4.000000      ...            0.000000   \n",
       "50%         1.000000       5.000000      ...            0.000000   \n",
       "75%         1.000000       7.000000      ...            0.000000   \n",
       "max         2.000000       9.000000      ...            1.000000   \n",
       "\n",
       "             FSLPR_F        CONPR_F       FCONPR_F         LOTV_F  \\\n",
       "count  180855.000000  301161.000000  180855.000000  301161.000000   \n",
       "mean        0.008051       0.004147       0.000852       0.017203   \n",
       "std         0.089364       0.064266       0.029168       0.130080   \n",
       "min         0.000000       0.000000       0.000000       0.000000   \n",
       "25%         0.000000       0.000000       0.000000       0.000000   \n",
       "50%         0.000000       0.000000       0.000000       0.000000   \n",
       "75%         0.000000       0.000000       0.000000       0.000000   \n",
       "max         1.000000       1.000000       1.000000       2.000000   \n",
       "\n",
       "              SQFS_F        FSQFS_F        PVALU_F           AUTH  \\\n",
       "count  301161.000000  180855.000000  180855.000000  301161.000000   \n",
       "mean        0.016048       0.006950       0.023284  201001.413347   \n",
       "std         0.125660       0.083079       0.150804     410.625328   \n",
       "min         0.000000       0.000000       0.000000  200002.000000   \n",
       "25%         0.000000       0.000000       0.000000  200609.000000   \n",
       "50%         0.000000       0.000000       0.000000  201002.000000   \n",
       "75%         0.000000       0.000000       0.000000  201404.000000   \n",
       "max         1.000000       1.000000       1.000000  201803.000000   \n",
       "\n",
       "                 ID  \n",
       "count  23690.000000  \n",
       "mean   11845.500000  \n",
       "std     6838.858275  \n",
       "min        1.000000  \n",
       "25%     5923.250000  \n",
       "50%    11845.500000  \n",
       "75%    17767.750000  \n",
       "max    23690.000000  \n",
       "\n",
       "[8 rows x 62 columns]"
      ]
     },
     "execution_count": 5,
     "metadata": {},
     "output_type": "execute_result"
    }
   ],
   "source": [
    "all_data.describe()"
   ]
  },
  {
   "cell_type": "code",
   "execution_count": 6,
   "metadata": {},
   "outputs": [
    {
     "data": {
      "text/html": [
       "<div>\n",
       "<style scoped>\n",
       "    .dataframe tbody tr th:only-of-type {\n",
       "        vertical-align: middle;\n",
       "    }\n",
       "\n",
       "    .dataframe tbody tr th {\n",
       "        vertical-align: top;\n",
       "    }\n",
       "\n",
       "    .dataframe thead th {\n",
       "        text-align: right;\n",
       "    }\n",
       "</style>\n",
       "<table border=\"1\" class=\"dataframe\">\n",
       "  <thead>\n",
       "    <tr style=\"text-align: right;\">\n",
       "      <th></th>\n",
       "      <th>ACS</th>\n",
       "      <th>AGER</th>\n",
       "      <th>ASSOC</th>\n",
       "      <th>BASE</th>\n",
       "      <th>CAT</th>\n",
       "      <th>CLOS</th>\n",
       "      <th>CON</th>\n",
       "      <th>DECK</th>\n",
       "      <th>DET</th>\n",
       "      <th>DIV</th>\n",
       "      <th>...</th>\n",
       "      <th>FSLPR_F</th>\n",
       "      <th>CONPR_F</th>\n",
       "      <th>FCONPR_F</th>\n",
       "      <th>LOTV_F</th>\n",
       "      <th>SQFS_F</th>\n",
       "      <th>FSQFS_F</th>\n",
       "      <th>PVALU_F</th>\n",
       "      <th>AUTH</th>\n",
       "      <th>FILENAME</th>\n",
       "      <th>ID</th>\n",
       "    </tr>\n",
       "  </thead>\n",
       "  <tbody>\n",
       "    <tr>\n",
       "      <th>0</th>\n",
       "      <td>1</td>\n",
       "      <td>2.0</td>\n",
       "      <td>2.0</td>\n",
       "      <td>1</td>\n",
       "      <td>1</td>\n",
       "      <td>0</td>\n",
       "      <td>0</td>\n",
       "      <td>1</td>\n",
       "      <td>2</td>\n",
       "      <td>1</td>\n",
       "      <td>...</td>\n",
       "      <td>0.0</td>\n",
       "      <td>0</td>\n",
       "      <td>0.0</td>\n",
       "      <td>0</td>\n",
       "      <td>0</td>\n",
       "      <td>0.0</td>\n",
       "      <td>0.0</td>\n",
       "      <td>201001</td>\n",
       "      <td>soc10</td>\n",
       "      <td>NaN</td>\n",
       "    </tr>\n",
       "    <tr>\n",
       "      <th>1</th>\n",
       "      <td>1</td>\n",
       "      <td>2.0</td>\n",
       "      <td>1.0</td>\n",
       "      <td>3</td>\n",
       "      <td>1</td>\n",
       "      <td>0</td>\n",
       "      <td>0</td>\n",
       "      <td>1</td>\n",
       "      <td>2</td>\n",
       "      <td>1</td>\n",
       "      <td>...</td>\n",
       "      <td>0.0</td>\n",
       "      <td>0</td>\n",
       "      <td>0.0</td>\n",
       "      <td>0</td>\n",
       "      <td>0</td>\n",
       "      <td>0.0</td>\n",
       "      <td>0.0</td>\n",
       "      <td>200910</td>\n",
       "      <td>soc10</td>\n",
       "      <td>NaN</td>\n",
       "    </tr>\n",
       "    <tr>\n",
       "      <th>2</th>\n",
       "      <td>1</td>\n",
       "      <td>2.0</td>\n",
       "      <td>2.0</td>\n",
       "      <td>1</td>\n",
       "      <td>1</td>\n",
       "      <td>0</td>\n",
       "      <td>2</td>\n",
       "      <td>2</td>\n",
       "      <td>1</td>\n",
       "      <td>1</td>\n",
       "      <td>...</td>\n",
       "      <td>0.0</td>\n",
       "      <td>0</td>\n",
       "      <td>0.0</td>\n",
       "      <td>0</td>\n",
       "      <td>0</td>\n",
       "      <td>0.0</td>\n",
       "      <td>0.0</td>\n",
       "      <td>200907</td>\n",
       "      <td>soc10</td>\n",
       "      <td>NaN</td>\n",
       "    </tr>\n",
       "    <tr>\n",
       "      <th>3</th>\n",
       "      <td>1</td>\n",
       "      <td>2.0</td>\n",
       "      <td>2.0</td>\n",
       "      <td>1</td>\n",
       "      <td>1</td>\n",
       "      <td>0</td>\n",
       "      <td>0</td>\n",
       "      <td>1</td>\n",
       "      <td>1</td>\n",
       "      <td>1</td>\n",
       "      <td>...</td>\n",
       "      <td>0.0</td>\n",
       "      <td>0</td>\n",
       "      <td>0.0</td>\n",
       "      <td>0</td>\n",
       "      <td>0</td>\n",
       "      <td>0.0</td>\n",
       "      <td>0.0</td>\n",
       "      <td>201012</td>\n",
       "      <td>soc10</td>\n",
       "      <td>NaN</td>\n",
       "    </tr>\n",
       "    <tr>\n",
       "      <th>4</th>\n",
       "      <td>1</td>\n",
       "      <td>2.0</td>\n",
       "      <td>1.0</td>\n",
       "      <td>1</td>\n",
       "      <td>1</td>\n",
       "      <td>0</td>\n",
       "      <td>1</td>\n",
       "      <td>1</td>\n",
       "      <td>2</td>\n",
       "      <td>1</td>\n",
       "      <td>...</td>\n",
       "      <td>0.0</td>\n",
       "      <td>0</td>\n",
       "      <td>0.0</td>\n",
       "      <td>0</td>\n",
       "      <td>0</td>\n",
       "      <td>0.0</td>\n",
       "      <td>0.0</td>\n",
       "      <td>200909</td>\n",
       "      <td>soc10</td>\n",
       "      <td>NaN</td>\n",
       "    </tr>\n",
       "  </tbody>\n",
       "</table>\n",
       "<p>5 rows × 63 columns</p>\n",
       "</div>"
      ],
      "text/plain": [
       "   ACS  AGER  ASSOC  BASE  CAT  CLOS  CON  DECK  DET  DIV ...  FSLPR_F  \\\n",
       "0    1   2.0    2.0     1    1     0    0     1    2    1 ...      0.0   \n",
       "1    1   2.0    1.0     3    1     0    0     1    2    1 ...      0.0   \n",
       "2    1   2.0    2.0     1    1     0    2     2    1    1 ...      0.0   \n",
       "3    1   2.0    2.0     1    1     0    0     1    1    1 ...      0.0   \n",
       "4    1   2.0    1.0     1    1     0    1     1    2    1 ...      0.0   \n",
       "\n",
       "   CONPR_F  FCONPR_F  LOTV_F  SQFS_F  FSQFS_F  PVALU_F    AUTH  FILENAME  ID  \n",
       "0        0       0.0       0       0      0.0      0.0  201001     soc10 NaN  \n",
       "1        0       0.0       0       0      0.0      0.0  200910     soc10 NaN  \n",
       "2        0       0.0       0       0      0.0      0.0  200907     soc10 NaN  \n",
       "3        0       0.0       0       0      0.0      0.0  201012     soc10 NaN  \n",
       "4        0       0.0       0       0      0.0      0.0  200909     soc10 NaN  \n",
       "\n",
       "[5 rows x 63 columns]"
      ]
     },
     "execution_count": 6,
     "metadata": {},
     "output_type": "execute_result"
    }
   ],
   "source": [
    "all_data.head()"
   ]
  },
  {
   "cell_type": "markdown",
   "metadata": {},
   "source": [
    "### Column Cleanup\n",
    "- Rename the columns for consistency; they are all acronyms."
   ]
  },
  {
   "cell_type": "code",
   "execution_count": 7,
   "metadata": {},
   "outputs": [],
   "source": [
    "cols_to_rename = {'ACS': 'CentralAir',\n",
    "                 'AGER': 'RestrictedAge',\n",
    "                  'ASSOC': 'HomeOwnerAssociation',\n",
    "                  'BASE': 'FoundationType',\n",
    "                  'CAT': 'BuildReason',\n",
    "                  'CLOS': 'ClosingCostsInc',\n",
    "                  'CON': 'CondominiumProject',\n",
    "                  'DECK': 'Deck',\n",
    "                  'DET': 'HouseDesign',\n",
    "                  'DIV': 'CensusDivision',\n",
    "                  'FINC': 'FinancingType',\n",
    "                  'FNBS': 'FinishedBasement',\n",
    "                  'FOYER': 'TwoStoryFoyer',\n",
    "                  'FRAME': 'FramingMaterial',\n",
    "                  'GAR': 'Garage',\n",
    "                  'HEAT': 'HeatingSystemPrimary',\n",
    "                  'HEAT2': 'HeatingSystemSecondary',\n",
    "                  'LNDR': 'LaundryLocation',\n",
    "                  'METRO': 'InMetroArea',\n",
    "                  'MFGS': 'ConstructionMethod',\n",
    "                  'PATI': 'Patio',\n",
    "                  'PRCH': 'Porch',\n",
    "                  'SEWER': 'SewerType',\n",
    "                  'STOR': 'Stories',\n",
    "                  'WALS': 'ExteriorWallsGtrTwo',\n",
    "                  'WAL1': 'ExteriorMaterialsPrimary',\n",
    "                  'WAL2': 'ExteriorMaterialsSecondary',\n",
    "                  'WATER': 'WaterSupply',\n",
    "                  'AREA': 'LotSizeSQFT',\n",
    "                  'BEDR': 'Bedrooms',\n",
    "                  'COMP': 'CompletionDate',\n",
    "                  'FNSQ': 'FinishedBasementSQFT',\n",
    "                  'FFNSQ': 'FinishedBasementFinalSQFT',\n",
    "                  'FPLS': 'Fireplaces',\n",
    "                  'FULB': 'BathroomsFull',\n",
    "                  'HAFB': 'BathroomsHalf',\n",
    "                  'LOTV': 'LotValue',\n",
    "                  'PVALU': 'PermitValue',\n",
    "                  'SALE': 'SaleDate',\n",
    "                  'FSQFS': 'FootageFinalSQFT',\n",
    "                  'STRT': 'StartDate',\n",
    "                  'CONPR': 'PriceContract',\n",
    "                  'SLPR': 'PriceSales',\n",
    "                  'SQFS': 'FootagePrelimSQFT',\n",
    "                  'WEIGHT': 'SurveyWieght',\n",
    "                  'FUEL': 'HeatingSystemFuelPrimary',\n",
    "                  'FUEL2': 'HeatingSystemFuelSecondary',\n",
    "                  'FCONPR': 'PriceContractAtCompletion',\n",
    "                  'FSLPR': 'PriceSalesAtCompletion',\n",
    "\n",
    "                  'AUTH': 'PermitAuthorizationDate',\n",
    "                 }\n",
    "\n",
    "drop_columns = [  'AREA_F',\n",
    "                  'FNSQ_F',\n",
    "                  'FFNSQ_F',\n",
    "                  'SLPR_F',\n",
    "                  'FSLPR_F',\n",
    "                  'CONPR_F',\n",
    "                  'FCONPR_F',\n",
    "                  'LOTV_F',\n",
    "                  'SQFS_F',\n",
    "                  'FSQFS_F',\n",
    "                  'PVALU_F',\n",
    "                  'ID']\n",
    "all_data.rename(columns=cols_to_rename, inplace=True)\n",
    "all_data.drop(columns=drop_columns, axis=1, errors='ignore', inplace=True)"
   ]
  },
  {
   "cell_type": "code",
   "execution_count": null,
   "metadata": {},
   "outputs": [],
   "source": []
  },
  {
   "cell_type": "markdown",
   "metadata": {},
   "source": [
    "### Clean up each columns descriptions."
   ]
  },
  {
   "cell_type": "code",
   "execution_count": 8,
   "metadata": {},
   "outputs": [
    {
     "data": {
      "text/plain": [
       "Yes    264752\n",
       "No      26571\n",
       "NaN      9838\n",
       "Name: CentralAir, dtype: int64"
      ]
     },
     "execution_count": 8,
     "metadata": {},
     "output_type": "execute_result"
    }
   ],
   "source": [
    "#Central Conditioning\n",
    "# 1 = yes, 2=no, 0=unknown\n",
    "all_data.loc[all_data['CentralAir']==1,'CentralAir']='Yes'\n",
    "all_data.loc[all_data['CentralAir']==2,'CentralAir']='No'\n",
    "all_data.loc[all_data['CentralAir']==0,'CentralAir']= np.nan\n",
    "all_data['CentralAir'] = all_data['CentralAir'].astype('category')\n",
    "\n",
    "all_data.CentralAir.value_counts(dropna=False)"
   ]
  },
  {
   "cell_type": "code",
   "execution_count": 9,
   "metadata": {},
   "outputs": [
    {
     "data": {
      "text/plain": [
       "No     174419\n",
       "NaN    121831\n",
       "Yes      4911\n",
       "Name: RestrictedAge, dtype: int64"
      ]
     },
     "execution_count": 9,
     "metadata": {},
     "output_type": "execute_result"
    }
   ],
   "source": [
    "#Age Restrictions\n",
    "#Will this house be in a development that is age‐ restricted?\n",
    "#1 = Yes\n",
    "#2 = No\n",
    "\n",
    "#Age‐restricted developments are intended for occupancy by persons of a specific age group, \n",
    "#usually 55 and older or 62 and older.  Not applicable prior to 2009 files\n",
    "\n",
    "column = 'RestrictedAge'\n",
    "\n",
    "all_data.loc[all_data[column]==1,column]='Yes'\n",
    "all_data.loc[all_data[column]==2,column]='No'\n",
    "all_data.loc[all_data[column]==0,column]= np.nan\n",
    "all_data[column] = all_data[column].astype('category')\n",
    "all_data[column].value_counts(dropna=False)"
   ]
  },
  {
   "cell_type": "code",
   "execution_count": 10,
   "metadata": {},
   "outputs": [
    {
     "data": {
      "text/plain": [
       "NaN    124685\n",
       "Yes     92191\n",
       "No      84285\n",
       "Name: HomeOwnerAssociation, dtype: int64"
      ]
     },
     "execution_count": 10,
     "metadata": {},
     "output_type": "execute_result"
    }
   ],
   "source": [
    "#Community Association\n",
    "\n",
    "\n",
    "column = 'HomeOwnerAssociation'\n",
    "\n",
    "all_data.loc[all_data[column]==1,column]='Yes'\n",
    "all_data.loc[all_data[column]==2,column]='No'\n",
    "all_data.loc[all_data[column]==0,column]= np.nan\n",
    "all_data[column] = all_data[column].astype('category')\n",
    "all_data[column].value_counts(dropna=False)"
   ]
  },
  {
   "cell_type": "code",
   "execution_count": 11,
   "metadata": {},
   "outputs": [
    {
     "data": {
      "text/plain": [
       "Slab           151869\n",
       "Basement        98513\n",
       "Crawl Space     42481\n",
       "NaN              4650\n",
       "Other            3648\n",
       "Name: FoundationType, dtype: int64"
      ]
     },
     "execution_count": 11,
     "metadata": {},
     "output_type": "execute_result"
    }
   ],
   "source": [
    "#Foundation Type \n",
    "#“Other” includes raised supports, earthen, and other foundation \n",
    "#types.\n",
    "\n",
    "column = 'FoundationType'\n",
    "\n",
    "all_data.loc[all_data[column]==1,column]='Basement'\n",
    "all_data.loc[all_data[column]==2,column]='Crawl Space'\n",
    "all_data.loc[all_data[column]==3,column]='Slab'\n",
    "all_data.loc[all_data[column]==4,column]='Other'\n",
    "all_data.loc[all_data[column]==0,column]= np.nan\n",
    "all_data[column] = all_data[column].astype('category')\n",
    "all_data[column].value_counts(dropna=False)"
   ]
  },
  {
   "cell_type": "code",
   "execution_count": 12,
   "metadata": {},
   "outputs": [
    {
     "data": {
      "text/plain": [
       "SaleOrRent    213281\n",
       "Contractor     46109\n",
       "Owner          31338\n",
       "Rent           10433\n",
       "Name: BuildReason, dtype: int64"
      ]
     },
     "execution_count": 12,
     "metadata": {},
     "output_type": "execute_result"
    }
   ],
   "source": [
    "#Catageroy Type: BuildReason \n",
    "#Beginning with the file for 2017, houses that are built \n",
    "#for rent will be included in the \"1‐Built for Sale/Sold\" \n",
    "#category rather than being shown separately.\n",
    "\n",
    "column = 'BuildReason'\n",
    "\n",
    "all_data.loc[all_data[column]==1,column]='SaleOrRent'\n",
    "all_data.loc[all_data[column]==2,column]='Contractor'\n",
    "all_data.loc[all_data[column]==3,column]='Owner'\n",
    "all_data.loc[all_data[column]==4,column]='Rent'\n",
    "all_data[column] = all_data[column].astype('category')\n",
    "all_data[column].value_counts(dropna=False)"
   ]
  },
  {
   "cell_type": "code",
   "execution_count": 13,
   "metadata": {},
   "outputs": [
    {
     "data": {
      "text/plain": [
       "No     155100\n",
       "NaN    134178\n",
       "Yes     11883\n",
       "Name: CondominiumProject, dtype: int64"
      ]
     },
     "execution_count": 13,
     "metadata": {},
     "output_type": "execute_result"
    }
   ],
   "source": [
    "#Condominium  \n",
    "#Applies only to houses built for sale/sold.\n",
    "\n",
    "column = 'CondominiumProject'\n",
    "\n",
    "all_data.loc[all_data[column]==1,column]='Yes'\n",
    "all_data.loc[all_data[column]==2,column]='No'\n",
    "all_data.loc[all_data[column]==0,column]= np.nan\n",
    "all_data[column] = all_data[column].astype('category')\n",
    "all_data[column].value_counts(dropna=False)"
   ]
  },
  {
   "cell_type": "code",
   "execution_count": 14,
   "metadata": {},
   "outputs": [
    {
     "data": {
      "text/plain": [
       "No     209356\n",
       "Yes     78555\n",
       "NaN     13250\n",
       "Name: Deck, dtype: int64"
      ]
     },
     "execution_count": 14,
     "metadata": {},
     "output_type": "execute_result"
    }
   ],
   "source": [
    "#Deck\n",
    "# 1 = yes, 2=no, 0=unknown\n",
    "\n",
    "column = 'Deck'\n",
    "\n",
    "all_data.loc[all_data[column]==1,column]='Yes'\n",
    "all_data.loc[all_data[column]==2,column]='No'\n",
    "all_data.loc[all_data[column]==0,column]= np.nan\n",
    "\n",
    "\n",
    "all_data[column] = all_data[column].astype('category')\n",
    "\n",
    "all_data.Deck.value_counts(dropna=False)"
   ]
  },
  {
   "cell_type": "code",
   "execution_count": 15,
   "metadata": {},
   "outputs": [
    {
     "data": {
      "text/plain": [
       "Yes    260554\n",
       "No      39912\n",
       "NaN       695\n",
       "Name: HouseDesign, dtype: int64"
      ]
     },
     "execution_count": 15,
     "metadata": {},
     "output_type": "execute_result"
    }
   ],
   "source": [
    "#Design of House\n",
    "#1 = Detached\n",
    "#2 = Attached\n",
    "#0 = Not reported\n",
    "\n",
    "column = 'HouseDesign'\n",
    "\n",
    "all_data.loc[all_data[column]==1,column]='Yes'\n",
    "all_data.loc[all_data[column]==2,column]='No'\n",
    "all_data.loc[all_data[column]==0,column]= np.nan\n",
    "all_data[column] = all_data[column].astype('category')\n",
    "\n",
    "\n",
    "all_data[column].value_counts(dropna=False)"
   ]
  },
  {
   "cell_type": "code",
   "execution_count": 16,
   "metadata": {},
   "outputs": [
    {
     "data": {
      "text/plain": [
       "South Atlantic        74954\n",
       "West South Central    48558\n",
       "Pacific               40046\n",
       "East North Central    37441\n",
       "Mountain              30719\n",
       "Middle Atlantic       21068\n",
       "West North Central    20252\n",
       "East South Central    17249\n",
       "New England           10874\n",
       "Name: CensusDivision, dtype: int64"
      ]
     },
     "execution_count": 16,
     "metadata": {},
     "output_type": "execute_result"
    }
   ],
   "source": [
    "#Division (Census)\n",
    "#1 = New England\n",
    "#2 = Middle Atlantic\n",
    "#3 = East North Central 4 = West North Central 5 = South Atlantic\n",
    "#6 = East South Central 7 = West South Central 8 = Mountain\n",
    "#9 = Pacific\n",
    "\n",
    "column = 'CensusDivision'\n",
    "\n",
    "all_data.loc[all_data[column]==1,column]='New England'\n",
    "all_data.loc[all_data[column]==2,column]='Middle Atlantic'\n",
    "all_data.loc[all_data[column]==3,column]='East North Central'\n",
    "all_data.loc[all_data[column]==4,column]='West North Central'\n",
    "all_data.loc[all_data[column]==5,column]='South Atlantic'\n",
    "all_data.loc[all_data[column]==6,column]='East South Central'\n",
    "all_data.loc[all_data[column]==7,column]='West South Central'\n",
    "all_data.loc[all_data[column]==8,column]='Mountain'\n",
    "all_data.loc[all_data[column]==9,column]= 'Pacific'\n",
    "all_data[column] = all_data[column].astype('category')\n",
    "\n",
    "all_data[column].value_counts(dropna=False)"
   ]
  },
  {
   "cell_type": "code",
   "execution_count": 17,
   "metadata": {},
   "outputs": [
    {
     "data": {
      "text/plain": [
       "Conventional    141253\n",
       "NaN             107839\n",
       "Cash             21350\n",
       "FHA              17000\n",
       "VA                7420\n",
       "Other             6299\n",
       "Name: FinancingType, dtype: int64"
      ]
     },
     "execution_count": 17,
     "metadata": {},
     "output_type": "execute_result"
    }
   ],
   "source": [
    "#Type of Financiing\n",
    "#01 = Conventional 02 = FHA\n",
    "#03 = VA\n",
    "#04 = Cash\n",
    "#05 = Other financing 00 = Not reported\n",
    "#“Other” includes Rural Housing Service, cash, Habitat for Humanity, loan from an individual, \n",
    "#State or local government mortgage‐backed bonds and other types of financing.\n",
    "#Applies only to houses sold, contractor‐built houses and owner‐built houses.\n",
    "\n",
    "column = 'FinancingType'\n",
    "\n",
    "all_data.loc[all_data[column]==1,column]='Conventional'\n",
    "all_data.loc[all_data[column]==2,column]='FHA'\n",
    "all_data.loc[all_data[column]==3,column]= 'VA'\n",
    "all_data.loc[all_data[column]==4,column]= 'Cash'\n",
    "all_data.loc[all_data[column]==5,column]= 'Other'\n",
    "all_data.loc[all_data[column]==0,column]= np.nan\n",
    "all_data[column] = all_data[column].astype('category')\n",
    "\n",
    "all_data[column].value_counts(dropna=False)"
   ]
  },
  {
   "cell_type": "code",
   "execution_count": 18,
   "metadata": {},
   "outputs": [
    {
     "data": {
      "text/plain": [
       "No     273085\n",
       "Yes     25950\n",
       "NaN      2126\n",
       "Name: FinishedBasement, dtype: int64"
      ]
     },
     "execution_count": 18,
     "metadata": {},
     "output_type": "execute_result"
    }
   ],
   "source": [
    "#Finished Basement \n",
    "#1 = Yes\n",
    "#2 = No\n",
    "#0 = Not reported\n",
    "# Applies only to houses reporting a full or partial basement.\n",
    "column = 'FinishedBasement'\n",
    "\n",
    "all_data.loc[all_data[column]==1,column]='Yes'\n",
    "all_data.loc[all_data[column]==2,column]='No'\n",
    "\n",
    "#for those with basement foundations; determine if it wasn't reported\n",
    "mapper = (all_data[column]==0) & (all_data['FoundationType']=='Basement')\n",
    "all_data.loc[mapper,column]= np.nan\n",
    "#else classify as No; i.e. they don't have a findished basement in \n",
    "#slab foundation homes.\n",
    "mapper = (all_data[column]==0) & (all_data['FoundationType']!='Basement')\n",
    "all_data.loc[mapper,column]= 'No'\n",
    "all_data[column] = all_data[column].astype('category')\n",
    "\n",
    "all_data[column].value_counts(dropna=False)"
   ]
  },
  {
   "cell_type": "code",
   "execution_count": 21,
   "metadata": {},
   "outputs": [
    {
     "data": {
      "text/plain": [
       "Yes    260554\n",
       "No      39912\n",
       "NaN       695\n",
       "Name: HouseDesign, dtype: int64"
      ]
     },
     "execution_count": 21,
     "metadata": {},
     "output_type": "execute_result"
    }
   ],
   "source": [
    "#Two Story Foyer\n",
    "#1 = Yes\n",
    "#2 = No\n",
    "#0 = Not reported\n",
    "\n",
    "column = 'HouseDesign'\n",
    "\n",
    "all_data.loc[all_data[column]==1,column]='Yes'\n",
    "all_data.loc[all_data[column]==2,column]='No'\n",
    "all_data.loc[all_data[column]==0,column]= np.nan\n",
    "\n",
    "all_data[column] = all_data[column].astype('category')\n",
    "all_data[column].value_counts(dropna=False)"
   ]
  },
  {
   "cell_type": "code",
   "execution_count": 23,
   "metadata": {},
   "outputs": [
    {
     "data": {
      "text/plain": [
       "Wood                     168748\n",
       "NaN                      122367\n",
       "ConcreteMasonry            8865\n",
       "Steel                       807\n",
       "InsulatedConcreteForm       374\n",
       "Name: FramingMaterial, dtype: int64"
      ]
     },
     "execution_count": 23,
     "metadata": {},
     "output_type": "execute_result"
    }
   ],
   "source": [
    "#Frame Material\n",
    "#1 = Wood\n",
    "#2 = Steel\n",
    "#3 = Concrete/masonry other than contret fomrs\n",
    "#4 = insulated contrete forms (or SIP)\n",
    "#0 = Not reported\n",
    "\n",
    "column = 'FramingMaterial'\n",
    "\n",
    "all_data.loc[all_data[column]==1,column]='Wood'\n",
    "all_data.loc[all_data[column]==2,column]='Steel'\n",
    "all_data.loc[all_data[column]==3,column]='ConcreteMasonry'\n",
    "all_data.loc[all_data[column]==4,column]='InsulatedConcreteForm'\n",
    "all_data.loc[all_data[column]==0,column]= np.nan\n",
    "all_data[column] = all_data[column].astype('category')\n",
    "\n",
    "all_data[column].value_counts(dropna=False)"
   ]
  },
  {
   "cell_type": "code",
   "execution_count": 24,
   "metadata": {},
   "outputs": [
    {
     "data": {
      "text/plain": [
       "2Car          177107\n",
       "3orMoreCar     65062\n",
       "Other          30076\n",
       "1Car           19415\n",
       "NaN             9501\n",
       "Name: Garage, dtype: int64"
      ]
     },
     "execution_count": 24,
     "metadata": {},
     "output_type": "execute_result"
    }
   ],
   "source": [
    "#Parking\n",
    "#1 = 1 car garage\n",
    "#2 = 2 car garage\n",
    "#3 = 3 or more car garage 4 = Other\n",
    "#0 = Not reported\n",
    "\n",
    "#“Other” includes carport, other off‐street parking (including a driveway with no garage \n",
    "#or carport), and other parking facilities.\n",
    "column = 'Garage'\n",
    "\n",
    "all_data.loc[all_data[column]==1,column]='1Car'\n",
    "all_data.loc[all_data[column]==2,column]='2Car'\n",
    "all_data.loc[all_data[column]==3,column]='3orMoreCar'\n",
    "all_data.loc[all_data[column]==4,column]='Other'\n",
    "all_data.loc[all_data[column]==0,column]= np.nan\n",
    "all_data[column] = all_data[column].astype('category')\n",
    "\n",
    "all_data[column].value_counts(dropna=False)"
   ]
  },
  {
   "cell_type": "code",
   "execution_count": 25,
   "metadata": {},
   "outputs": [
    {
     "data": {
      "text/plain": [
       "ForcedAirNoHeatPump    179068\n",
       "AirOrGroundHeatPump     94891\n",
       "NaN                     13744\n",
       "OtherOrNone              6863\n",
       "HotWaterOrSteam          6595\n",
       "Name: HeatingSystemPrimary, dtype: int64"
      ]
     },
     "execution_count": 25,
     "metadata": {},
     "output_type": "execute_result"
    }
   ],
   "source": [
    "#Primary Heat\n",
    "#01 = Air‐source or ground‐source heat pump \n",
    "#02 = Forced‐air furnace without heat pump \n",
    "#03 = Hot water or steam system\n",
    "#04 = Other or no heat\n",
    "#00 = Not reported\n",
    "\n",
    "#“Other” includes electric baseboard or wall panels, fireplace with \n",
    "#insert, stove that burns coal or wood, non‐portable room heater that\n",
    "#burns liquid fuel and is connected to a flue, vent, or chimney, \n",
    "#passive solar system, other heat sources, and no heat.\n",
    "\n",
    "\n",
    "column = 'HeatingSystemPrimary'\n",
    "\n",
    "all_data.loc[all_data[column]==1,column]='AirOrGroundHeatPump'\n",
    "all_data.loc[all_data[column]==2,column]='ForcedAirNoHeatPump'\n",
    "all_data.loc[all_data[column]==3,column]='HotWaterOrSteam'\n",
    "all_data.loc[all_data[column]==4,column]='OtherOrNone'\n",
    "all_data.loc[all_data[column]==0,column]= np.nan\n",
    "all_data[column] = all_data[column].astype('category')\n",
    "\n",
    "all_data[column].value_counts(dropna=False)"
   ]
  },
  {
   "cell_type": "code",
   "execution_count": 26,
   "metadata": {},
   "outputs": [
    {
     "data": {
      "text/plain": [
       "NaN                    292366\n",
       "Other                    5910\n",
       "AirOrGroundHeatPump      1721\n",
       "ForcedAirNoHeatPump       921\n",
       "HotWaterOrSteam           243\n",
       "Name: HeatingSystemSecondary, dtype: int64"
      ]
     },
     "execution_count": 26,
     "metadata": {},
     "output_type": "execute_result"
    }
   ],
   "source": [
    "#Secondary Heat\n",
    "#01 = Air‐source or ground‐source heat pump \n",
    "#02 = Forced‐air furnace without heat pump \n",
    "#03 = Hot water or steam system\n",
    "#04 = Other \n",
    "#00 = Not reported OR No second heating\n",
    "\n",
    "#“Other” includes electric baseboard or wall panels, fireplace with \n",
    "#insert, stove that burns coal or wood, non‐portable room heater that\n",
    "#burns liquid fuel and is connected to a flue, vent, or chimney, \n",
    "#passive solar system, other heat sources, and no heat.\n",
    "\n",
    "\n",
    "column = 'HeatingSystemSecondary'\n",
    "\n",
    "all_data.loc[all_data[column]==1,column]='AirOrGroundHeatPump'\n",
    "all_data.loc[all_data[column]==2,column]='ForcedAirNoHeatPump'\n",
    "all_data.loc[all_data[column]==3,column]='HotWaterOrSteam'\n",
    "all_data.loc[all_data[column]==4,column]='Other'\n",
    "all_data.loc[all_data[column]==0,column]= np.nan\n",
    "all_data[column] = all_data[column].astype('category')\n",
    "\n",
    "all_data[column].value_counts(dropna=False)"
   ]
  },
  {
   "cell_type": "code",
   "execution_count": 27,
   "metadata": {},
   "outputs": [
    {
     "data": {
      "text/plain": [
       "NaN                    131960\n",
       "FirstFloor             122844\n",
       "SecondFloorOrHigher     36432\n",
       "Basement                 6171\n",
       "NoConnection             1547\n",
       "Garage                   1275\n",
       "MultipleLocations         932\n",
       "Name: LaundryLocation, dtype: int64"
      ]
     },
     "execution_count": 27,
     "metadata": {},
     "output_type": "execute_result"
    }
   ],
   "source": [
    "#Laundry Location\n",
    "#1 = In the basement\n",
    "#2 = On the first floor\n",
    "#3 = On the second or higher floor 4 = In the garage or carport\n",
    "#5 = No connection planned\n",
    "#6 = Multiple locations\n",
    "#0 = Not reported\n",
    "\n",
    "\n",
    "#“Other” includes electric baseboard or wall panels, fireplace with \n",
    "#insert, stove that burns coal or wood, non‐portable room heater that\n",
    "#burns liquid fuel and is connected to a flue, vent, or chimney, \n",
    "#passive solar system, other heat sources, and no heat.\n",
    "\n",
    "\n",
    "column = 'LaundryLocation'\n",
    "\n",
    "all_data.loc[all_data[column]==1,column]='Basement'\n",
    "all_data.loc[all_data[column]==2,column]='FirstFloor'\n",
    "all_data.loc[all_data[column]==3,column]='SecondFloorOrHigher'\n",
    "all_data.loc[all_data[column]==4,column]='Garage'\n",
    "all_data.loc[all_data[column]==5,column]='NoConnection'\n",
    "all_data.loc[all_data[column]==6,column]='MultipleLocations'\n",
    "all_data.loc[all_data[column]==0,column]= np.nan\n",
    "all_data[column] = all_data[column].astype('category')\n",
    "\n",
    "all_data[column].value_counts(dropna=False)"
   ]
  },
  {
   "cell_type": "code",
   "execution_count": 28,
   "metadata": {},
   "outputs": [
    {
     "data": {
      "text/plain": [
       "Yes    269161\n",
       "No      32000\n",
       "Name: InMetroArea, dtype: int64"
      ]
     },
     "execution_count": 28,
     "metadata": {},
     "output_type": "execute_result"
    }
   ],
   "source": [
    "#Metro Area\n",
    "#1 = Located in Metro Area\n",
    "#2 = Non in an Metro Area\n",
    "\n",
    "column = 'InMetroArea'\n",
    "\n",
    "all_data.loc[all_data[column]==1,column]='Yes'\n",
    "all_data.loc[all_data[column]==2,column]='No'\n",
    "all_data.loc[all_data[column]==0,column]= np.nan\n",
    "all_data[column] = all_data[column].astype('category')\n",
    "\n",
    "all_data[column].value_counts(dropna=False)"
   ]
  },
  {
   "cell_type": "code",
   "execution_count": 29,
   "metadata": {},
   "outputs": [
    {
     "data": {
      "text/plain": [
       "SiteBuilt    287443\n",
       "Modular        6072\n",
       "Panelized      5749\n",
       "NaN            1897\n",
       "Name: ConstructionMethod, dtype: int64"
      ]
     },
     "execution_count": 29,
     "metadata": {},
     "output_type": "execute_result"
    }
   ],
   "source": [
    "#Construction Type \n",
    "#1 = Modular\n",
    "#2 = Panelized / Precut 3 = Site‐built\n",
    "#0 = Not reported\n",
    "\n",
    "column = 'ConstructionMethod'\n",
    "\n",
    "all_data.loc[all_data[column]==1,column]='Modular'\n",
    "all_data.loc[all_data[column]==2,column]='Panelized'\n",
    "all_data.loc[all_data[column]==3,column]='SiteBuilt'\n",
    "all_data.loc[all_data[column]==0,column]= np.nan\n",
    "all_data[column] = all_data[column].astype('category')\n",
    "\n",
    "all_data[column].value_counts(dropna=False)"
   ]
  },
  {
   "cell_type": "code",
   "execution_count": 30,
   "metadata": {},
   "outputs": [
    {
     "data": {
      "text/plain": [
       "No     143928\n",
       "Yes    143199\n",
       "NaN     14034\n",
       "Name: Patio, dtype: int64"
      ]
     },
     "execution_count": 30,
     "metadata": {},
     "output_type": "execute_result"
    }
   ],
   "source": [
    "#Patio\n",
    "#1 = Yes\n",
    "#2 = No\n",
    "\n",
    "column = 'Patio'\n",
    "\n",
    "all_data.loc[all_data[column]==1,column]='Yes'\n",
    "all_data.loc[all_data[column]==2,column]='No'\n",
    "all_data.loc[all_data[column]==0,column]= np.nan\n",
    "all_data[column] = all_data[column].astype('category')\n",
    "\n",
    "all_data[column].value_counts(dropna=False)"
   ]
  },
  {
   "cell_type": "code",
   "execution_count": 31,
   "metadata": {},
   "outputs": [
    {
     "data": {
      "text/plain": [
       "Yes    179221\n",
       "No     110640\n",
       "NaN     11300\n",
       "Name: Porch, dtype: int64"
      ]
     },
     "execution_count": 31,
     "metadata": {},
     "output_type": "execute_result"
    }
   ],
   "source": [
    "#Porch\n",
    "#1 = Yes\n",
    "#2 = No\n",
    "\n",
    "column = 'Porch'\n",
    "\n",
    "all_data.loc[all_data[column]==1,column]='Yes'\n",
    "all_data.loc[all_data[column]==2,column]='No'\n",
    "all_data.loc[all_data[column]==0,column]= np.nan\n",
    "all_data[column] = all_data[column].astype('category')\n",
    "\n",
    "all_data[column].value_counts(dropna=False)"
   ]
  },
  {
   "cell_type": "code",
   "execution_count": 32,
   "metadata": {},
   "outputs": [
    {
     "data": {
      "text/plain": [
       "PublicSewer    143184\n",
       "NaN            124211\n",
       "Septic          33473\n",
       "Other             293\n",
       "Name: SewerType, dtype: int64"
      ]
     },
     "execution_count": 32,
     "metadata": {},
     "output_type": "execute_result"
    }
   ],
   "source": [
    "#Sewer Type \n",
    "#1 = Public Sewer\n",
    "#2 = Septic \n",
    "#3 = Other\n",
    "\n",
    "column = 'SewerType'\n",
    "\n",
    "all_data.loc[all_data[column]==1,column]='PublicSewer'\n",
    "all_data.loc[all_data[column]==2,column]='Septic'\n",
    "all_data.loc[all_data[column]==3,column]='Other'\n",
    "all_data.loc[all_data[column]==0,column]= np.nan\n",
    "all_data[column] = all_data[column].astype('category')\n",
    "\n",
    "all_data[column].value_counts(dropna=False)"
   ]
  },
  {
   "cell_type": "code",
   "execution_count": 33,
   "metadata": {},
   "outputs": [
    {
     "data": {
      "text/plain": [
       " 2.0    170256\n",
       " 1.0    120600\n",
       "NaN       6675\n",
       " 3.0      3630\n",
       "Name: Stories, dtype: int64"
      ]
     },
     "execution_count": 33,
     "metadata": {},
     "output_type": "execute_result"
    }
   ],
   "source": [
    "#Stories  \n",
    "#1 = 1 story\n",
    "#2 = 2 stories (including 11⁄2 stories) \n",
    "#3 = 3 stories or more\n",
    "#0 = Not reported\n",
    "\n",
    "column = 'Stories'\n",
    "\n",
    "all_data.loc[all_data[column]==1,column]=1\n",
    "all_data.loc[all_data[column]==2,column]=2\n",
    "all_data.loc[all_data[column]==3,column]=3\n",
    "all_data.loc[all_data[column]==0,column]= np.nan\n",
    "all_data[column] = all_data[column].astype('category')\n",
    "\n",
    "all_data[column].value_counts(dropna=False)"
   ]
  },
  {
   "cell_type": "code",
   "execution_count": 34,
   "metadata": {},
   "outputs": [
    {
     "data": {
      "text/plain": [
       "Vinyl            90495\n",
       "Brick            63106\n",
       "Stucco           61985\n",
       "FiberCement      40465\n",
       "Wood             21499\n",
       "NaN              12722\n",
       "Aluminum          5139\n",
       "ConcreteBlock     3691\n",
       "Other             2059\n",
       "Name: ExteriorMaterialsPrimary, dtype: int64"
      ]
     },
     "execution_count": 34,
     "metadata": {},
     "output_type": "execute_result"
    }
   ],
   "source": [
    "#Primary Exterior Wall Materials \n",
    "#01 = Wood or wood products\n",
    "#02 = Brick or brick veneer\n",
    "#03 = Aluminum siding (not covered with vinyl) \n",
    "#04 = Stucco\n",
    "#05 = Vinyl siding (inc. vinyl‐covered aluminum) \n",
    "#06 = Concrete block (not including stucco)\n",
    "#07 = Stone, rock, or other stone materials\n",
    "#08 = Fiber cement siding\n",
    "#09 = Other\n",
    "#00 = Not reported\n",
    "\n",
    "#Beginning with the file for 2008, \n",
    "#Aluminum siding is also included with “09‐Other” \n",
    "#rather than being shown separately.\n",
    "\n",
    "column = 'ExteriorMaterialsPrimary'\n",
    "\n",
    "all_data.loc[all_data[column]==1,column]='Wood'\n",
    "all_data.loc[all_data[column]==2,column]='Brick'\n",
    "all_data.loc[all_data[column]==3,column]='Aluminum'\n",
    "all_data.loc[all_data[column]==4,column]='Stucco'\n",
    "all_data.loc[all_data[column]==5,column]='Vinyl'\n",
    "all_data.loc[all_data[column]==6,column]='ConcreteBlock'\n",
    "all_data.loc[all_data[column]==7,column]='Aluminum'\n",
    "all_data.loc[all_data[column]==8,column]='FiberCement'\n",
    "all_data.loc[all_data[column]==9,column]='Other'\n",
    "\n",
    "all_data.loc[all_data[column]==0,column]= np.nan\n",
    "all_data[column] = all_data[column].astype('category')\n",
    "\n",
    "all_data[column].value_counts(dropna=False)"
   ]
  },
  {
   "cell_type": "code",
   "execution_count": 35,
   "metadata": {},
   "outputs": [
    {
     "data": {
      "text/plain": [
       "NaN              160532\n",
       "Aluminum          55320\n",
       "Brick             40318\n",
       "FiberCement       17443\n",
       "Vinyl             13036\n",
       "Stucco             6924\n",
       "Wood               6007\n",
       "ConcreteBlock       923\n",
       "Other               658\n",
       "Name: ExteriorMaterialsSecondary, dtype: int64"
      ]
     },
     "execution_count": 35,
     "metadata": {},
     "output_type": "execute_result"
    }
   ],
   "source": [
    "#Secondary Exterior Wall Materials \n",
    "#01 = Wood or wood products\n",
    "#02 = Brick or brick veneer\n",
    "#03 = Aluminum siding (not covered with vinyl) \n",
    "#04 = Stucco\n",
    "#05 = Vinyl siding (inc. vinyl‐covered aluminum) \n",
    "#06 = Concrete block (not including stucco)\n",
    "#07 = Stone, rock, or other stone materials\n",
    "#08 = Fiber cement siding\n",
    "#09 = Other\n",
    "#00 = Not reported\n",
    "\n",
    "#In files for years prior to 2009, WAL2 is “10” for houses \n",
    "# with no secondary wall material (those with WALS=”2”). \n",
    "#Beginning with the file for 2009, houses with WALS=”2” have WAL2=”00”.\n",
    "\n",
    "column = 'ExteriorMaterialsSecondary'\n",
    "\n",
    "all_data.loc[all_data[column]==1,column]='Wood'\n",
    "all_data.loc[all_data[column]==2,column]='Brick'\n",
    "all_data.loc[all_data[column]==3,column]='Aluminum'\n",
    "all_data.loc[all_data[column]==4,column]='Stucco'\n",
    "all_data.loc[all_data[column]==5,column]='Vinyl'\n",
    "all_data.loc[all_data[column]==6,column]='ConcreteBlock'\n",
    "all_data.loc[all_data[column]==7,column]='Aluminum'\n",
    "all_data.loc[all_data[column]==8,column]='FiberCement'\n",
    "all_data.loc[all_data[column]==9,column]='Other'\n",
    "all_data.loc[all_data[column]==10,column]=np.nan\n",
    "all_data.loc[all_data[column]==0,column]= np.nan\n",
    "\n",
    "all_data.loc[all_data[column]==0,column]= np.nan\n",
    "all_data[column] = all_data[column].astype('category')\n",
    "\n",
    "all_data[column].value_counts(dropna=False)"
   ]
  },
  {
   "cell_type": "code",
   "execution_count": 36,
   "metadata": {},
   "outputs": [
    {
     "data": {
      "text/plain": [
       "No     144508\n",
       "Yes    140799\n",
       "NaN     15854\n",
       "Name: ExteriorWallsGtrTwo, dtype: int64"
      ]
     },
     "execution_count": 36,
     "metadata": {},
     "output_type": "execute_result"
    }
   ],
   "source": [
    "#Secondary Walls?\n",
    "#1 = Yes\n",
    "#2 = No\n",
    "\n",
    "column = 'ExteriorWallsGtrTwo'\n",
    "\n",
    "all_data.loc[all_data[column]==1,column]='Yes'\n",
    "all_data.loc[all_data[column]==2,column]='No'\n",
    "all_data.loc[all_data[column]==0,column]= np.nan\n",
    "all_data[column] = all_data[column].astype('category')\n",
    "\n",
    "all_data[column].value_counts(dropna=False)"
   ]
  },
  {
   "cell_type": "code",
   "execution_count": 37,
   "metadata": {},
   "outputs": [
    {
     "data": {
      "text/plain": [
       "Public    158021\n",
       "NaN       124151\n",
       "Well       18674\n",
       "Other        315\n",
       "Name: WaterSupply, dtype: int64"
      ]
     },
     "execution_count": 37,
     "metadata": {},
     "output_type": "execute_result"
    }
   ],
   "source": [
    "#Water Type  \n",
    "#1 = Public water (inc. community or shared well) \n",
    "#2 = Individual well\n",
    "#3 = Other\n",
    "#0 = Not reported\n",
    "\n",
    "column = 'WaterSupply'\n",
    "\n",
    "all_data.loc[all_data[column]==1,column]='Public'\n",
    "all_data.loc[all_data[column]==2,column]='Well'\n",
    "all_data.loc[all_data[column]==3,column]='Other'\n",
    "all_data.loc[all_data[column]=='',column]=np.nan\n",
    "\n",
    "all_data.loc[all_data[column]==0,column]= np.nan\n",
    "all_data[column] = all_data[column].astype('category')\n",
    "\n",
    "all_data[column].value_counts(dropna=False)"
   ]
  },
  {
   "cell_type": "code",
   "execution_count": 38,
   "metadata": {
    "scrolled": true
   },
   "outputs": [
    {
     "data": {
      "text/plain": [
       "NaN          72428\n",
       " 43560.0      7967\n",
       " 435600.0     7834\n",
       " 87120.0      7779\n",
       " 21780.0      6110\n",
       " 2000.0       5140\n",
       " 8712.0       5037\n",
       " 10890.0      4279\n",
       " 13068.0      4126\n",
       " 6000.0       3506\n",
       " 10000.0      2979\n",
       " 5000.0       2865\n",
       " 5500.0       2520\n",
       " 217800.0     2427\n",
       " 7500.0       2417\n",
       " 7200.0       2335\n",
       " 6600.0       1864\n",
       " 9000.0       1858\n",
       " 7000.0       1848\n",
       " 17424.0      1787\n",
       " 14520.0      1746\n",
       " 4356.0       1573\n",
       " 8000.0       1443\n",
       " 8400.0       1443\n",
       " 130680.0     1316\n",
       " 12000.0      1299\n",
       " 8700.0       1281\n",
       " 65340.0      1257\n",
       " 7800.0       1239\n",
       " 15000.0      1235\n",
       "             ...  \n",
       " 40816.0         1\n",
       " 11767.0         1\n",
       " 15319.0         1\n",
       " 10842.0         1\n",
       " 11765.0         1\n",
       " 21016.0         1\n",
       " 9806.0          1\n",
       " 7659.0          1\n",
       " 28280.0         1\n",
       " 3085.0          1\n",
       " 6067.0          1\n",
       " 40812.0         1\n",
       " 13332.0         1\n",
       " 23565.0         1\n",
       " 21912.0         1\n",
       " 124400.0        1\n",
       " 21110.0         1\n",
       " 20180.0         1\n",
       " 23559.0         1\n",
       " 68040.0         1\n",
       " 39150.0         1\n",
       " 4894.0          1\n",
       " 9789.0          1\n",
       " 6605.0          1\n",
       " 47110.0         1\n",
       " 39161.0         1\n",
       " 61300.0         1\n",
       " 17436.0         1\n",
       " 30647.0         1\n",
       " 16383.0         1\n",
       "Name: LotSizeSQFT, Length: 18461, dtype: int64"
      ]
     },
     "execution_count": 38,
     "metadata": {},
     "output_type": "execute_result"
    }
   ],
   "source": [
    "#Area\n",
    "#For all houses, values less than 2,000 were changed to 2,000. \n",
    "#For houses built for sale/sold and houses built for rent, \n",
    "#all values greater than 87,120 were changed to 87,120. \n",
    "#For houses that are contractor‐built and owner‐built,\n",
    "#all values greater than 435,600 were changed to 435,600.\n",
    "\n",
    "\n",
    "column = 'LotSizeSQFT'\n",
    "\n",
    "all_data.loc[all_data[column]==0,column]= np.nan\n",
    "\n",
    "all_data[column].value_counts(dropna=False)"
   ]
  },
  {
   "cell_type": "code",
   "execution_count": 39,
   "metadata": {},
   "outputs": [
    {
     "data": {
      "text/plain": [
       " 3.0    133624\n",
       " 4.0     93658\n",
       " 2.0     34249\n",
       " 5.0     26722\n",
       "NaN      12908\n",
       "Name: Bedrooms, dtype: int64"
      ]
     },
     "execution_count": 39,
     "metadata": {},
     "output_type": "execute_result"
    }
   ],
   "source": [
    "#Bedrooms  \n",
    "#1 = 1 story\n",
    "#2 = 2 stories (including 11⁄2 stories) \n",
    "#3 = 3 stories or more\n",
    "#0 = Not reported\n",
    "\n",
    "column = 'Bedrooms'\n",
    "\n",
    "\n",
    "all_data.loc[all_data[column]==0,column]= np.nan\n",
    "all_data[column].value_counts(dropna=False)"
   ]
  },
  {
   "cell_type": "code",
   "execution_count": 40,
   "metadata": {},
   "outputs": [],
   "source": [
    "#Completion Date\n",
    "#0= Not Completed as of survey date.\n",
    "\n",
    "column = 'CompletionDate'\n",
    "\n",
    "all_data.loc[all_data[column]==0,column]= pd.NaT\n",
    "all_data[column] = pd.to_datetime(all_data[column], format='%Y%m', errors='ignore')\n"
   ]
  },
  {
   "cell_type": "code",
   "execution_count": 41,
   "metadata": {},
   "outputs": [],
   "source": [
    "#Final Square Foot Area of Finished Basement at Completion\n",
    "#Applies only to houses with a full or partial finished basement \n",
    "#and reporting square foot areas of house (unchanged) and finished \n",
    "#basement. Values not allowed to exceed 50% or be less than 5% of #\n",
    "#area of house. Values outside those limits changed to those limits.\n",
    "\n",
    "column = 'FinishedBasementFinalSQFT'\n",
    "\n",
    "#all_data.loc[all_data[column]==0,column]= np.nan\n",
    "\n",
    "#all_data[column].value_counts(dropna=False)"
   ]
  },
  {
   "cell_type": "code",
   "execution_count": 42,
   "metadata": {},
   "outputs": [
    {
     "data": {
      "text/plain": [
       " 1.0    135516\n",
       " 0.0    130155\n",
       " 2.0     18736\n",
       "NaN      16754\n",
       "Name: Fireplaces, dtype: int64"
      ]
     },
     "execution_count": 42,
     "metadata": {},
     "output_type": "execute_result"
    }
   ],
   "source": [
    "#Fireplaces Walls?\n",
    "#0= None\n",
    "#1 = 1\n",
    "#2 = 2 or more\n",
    "#9 = not reported\n",
    "\n",
    "column = 'Fireplaces'\n",
    "\n",
    "\n",
    "all_data.loc[all_data[column]==9,column]= np.nan\n",
    "all_data[column].value_counts(dropna=False)"
   ]
  },
  {
   "cell_type": "code",
   "execution_count": 43,
   "metadata": {},
   "outputs": [
    {
     "data": {
      "text/plain": [
       " 2.0    181281\n",
       " 3.0     67616\n",
       " 4.0     23790\n",
       " 1.0     15217\n",
       "NaN      13257\n",
       "Name: BathroomsFull, dtype: int64"
      ]
     },
     "execution_count": 43,
     "metadata": {},
     "output_type": "execute_result"
    }
   ],
   "source": [
    "#Full Bath\n",
    "#1 = 1 bathroom or less\n",
    "#2 = 2 bathrooms\n",
    "#3 = 3 bathrooms\n",
    "#4 = 4 bathrooms or more 9 = Not reported\n",
    "\n",
    "column = 'BathroomsFull'\n",
    "\n",
    "\n",
    "all_data.loc[all_data[column]==9,column]= np.nan\n",
    "all_data[column].value_counts(dropna=False)"
   ]
  },
  {
   "cell_type": "code",
   "execution_count": 44,
   "metadata": {},
   "outputs": [
    {
     "data": {
      "text/plain": [
       " 1.0    142590\n",
       " 0.0    137344\n",
       "NaN      13541\n",
       " 2.0      7686\n",
       "Name: BathroomsHalf, dtype: int64"
      ]
     },
     "execution_count": 44,
     "metadata": {},
     "output_type": "execute_result"
    }
   ],
   "source": [
    "#Half Bath\n",
    "#0 = 0 half bathroom \n",
    "#1 = 1 half bathrooms\n",
    "#2 =2 half bathrooms or more\n",
    "#9 = Not reported\n",
    "\n",
    "column = 'BathroomsHalf'\n",
    "\n",
    "\n",
    "all_data.loc[all_data[column]==9,column]= np.nan\n",
    "all_data[column].value_counts(dropna=False)"
   ]
  },
  {
   "cell_type": "code",
   "execution_count": 45,
   "metadata": {},
   "outputs": [],
   "source": [
    "#Lot Value Bath\n",
    "#0 = Not applicable or not reported.\n",
    "\n",
    "column = 'LotValue'\n",
    "\n",
    "\n",
    "all_data.loc[all_data[column]==0,column]= np.nan\n",
    "#all_data[column].value_counts(dropna=False)"
   ]
  },
  {
   "cell_type": "code",
   "execution_count": 46,
   "metadata": {},
   "outputs": [],
   "source": [
    "#Lot Value Bath\n",
    "#0 = Not applicable or not reported.\n",
    "\n",
    "column = 'PermitValue'\n",
    "\n",
    "\n",
    "all_data.loc[all_data[column]==0,column]= np.nan\n",
    "#all_data[column].value_counts(dropna=False)"
   ]
  },
  {
   "cell_type": "code",
   "execution_count": 47,
   "metadata": {},
   "outputs": [],
   "source": [
    "#Sale Date\n",
    "#0= Not Completed as of survey date.\n",
    "\n",
    "column = 'SaleDate'\n",
    "\n",
    "all_data.loc[all_data[column]==0,column]= pd.NaT\n",
    "all_data[column] = pd.to_datetime(all_data[column], format='%Y%m', errors='ignore')"
   ]
  },
  {
   "cell_type": "code",
   "execution_count": 48,
   "metadata": {},
   "outputs": [],
   "source": [
    "#Final Square Foot Area of House at Completion \n",
    "#\n",
    "\n",
    "column = 'FootageFinalSQFT'\n",
    "\n",
    "\n",
    "all_data.loc[all_data[column]==0,column]= np.nan\n",
    "#all_data[column].value_counts(dropna=False)"
   ]
  },
  {
   "cell_type": "code",
   "execution_count": 49,
   "metadata": {},
   "outputs": [],
   "source": [
    "#Start Date\n",
    "#0= Not Completed as of survey date.\n",
    "\n",
    "column = 'StartDate'\n",
    "\n",
    "all_data.loc[all_data[column]==0,column]= pd.NaT\n",
    "all_data[column] = pd.to_datetime(all_data[column], format='%Y%m', errors='ignore')\n",
    "\n"
   ]
  },
  {
   "cell_type": "code",
   "execution_count": 50,
   "metadata": {},
   "outputs": [],
   "source": [
    "#Contract Price\n",
    "#Applies only to contractor‐built houses. Within each division, \n",
    "#top 3% and bottom 1% of all reported values were changed to those \n",
    "#limits. \n",
    "#Unchanged values less than $15,000 were changed to $15,000.\n",
    "\n",
    "column = 'PriceContract'\n",
    "\n",
    "\n",
    "all_data.loc[all_data[column]==0,column]= np.nan\n",
    "#all_data[column].value_counts(dropna=False)"
   ]
  },
  {
   "cell_type": "code",
   "execution_count": 51,
   "metadata": {},
   "outputs": [],
   "source": [
    "#Sales Price\n",
    "#Sales price at the time the first sales contract was signed or \n",
    "#deposit made; includes the price of the improved lot\n",
    "#Applies only to houses sold. Within each division, top 3% and \n",
    "#bottom 1% of all reported values were changed to those limits. \n",
    "#Unchanged values less than $15,000 were changed to $15,000.\n",
    "\n",
    "column = 'PriceSales'\n",
    "\n",
    "\n",
    "all_data.loc[all_data[column]==0,column]= np.nan\n",
    "#all_data[column].value_counts(dropna=False)"
   ]
  },
  {
   "cell_type": "code",
   "execution_count": 52,
   "metadata": {},
   "outputs": [],
   "source": [
    "#Square Foot Area of House (Prelim)\n",
    "#\n",
    "\n",
    "column = 'FootagePrelimSQFT'\n",
    "\n",
    "\n",
    "all_data.loc[all_data[column]==0,column]= np.nan\n",
    "#all_data[column].value_counts(dropna=False)"
   ]
  },
  {
   "cell_type": "code",
   "execution_count": 53,
   "metadata": {},
   "outputs": [],
   "source": [
    "#Weight\n",
    "#Number of housing units represented by this sample case.\n",
    "\n",
    "column = 'SurveyWieght'\n",
    "\n",
    "\n",
    "all_data.loc[all_data[column]==0,column]= np.nan\n",
    "#all_data[column].value_counts(dropna=False)\n"
   ]
  },
  {
   "cell_type": "code",
   "execution_count": 54,
   "metadata": {},
   "outputs": [
    {
     "data": {
      "text/plain": [
       "Nat Gas          163625\n",
       "Electricity      101503\n",
       "NaN               15133\n",
       "BottledLiquid     13500\n",
       "OtherOrNone        3923\n",
       "Oil                3477\n",
       "Name: HeatingSystemFuelPrimary, dtype: int64"
      ]
     },
     "execution_count": 54,
     "metadata": {},
     "output_type": "execute_result"
    }
   ],
   "source": [
    "#Primary Space Heating Fuel \n",
    "#01 = Electricity\n",
    "#02 = Nat Gas\n",
    "#03 = Bottled or Liquified Gas (incl Propane)\n",
    "#04 = Oil (heating/kerosene)\n",
    "#05 = Other or no heat\n",
    "#00 = Not reported\n",
    "\n",
    "#“Other” includes wood, pellets, solar, coal, and other fuels.\n",
    "\n",
    "#In the files for 2008 and 2009, Bottled gas is included\n",
    "#with “02‐Natural gas” rather than being shown separately.\n",
    "column = 'HeatingSystemFuelPrimary'\n",
    "\n",
    "all_data.loc[all_data[column]==1,column]='Electricity'\n",
    "all_data.loc[all_data[column]==2,column]='Nat Gas'\n",
    "all_data.loc[all_data[column]==3,column]='BottledLiquid'\n",
    "all_data.loc[all_data[column]==4,column]='Oil'\n",
    "all_data.loc[all_data[column]==5,column]='OtherOrNone'\n",
    "all_data.loc[all_data[column]==0,column]= np.nan\n",
    "all_data[column] = all_data[column].astype('category')\n",
    "\n",
    "all_data[column].value_counts(dropna=False)"
   ]
  },
  {
   "cell_type": "code",
   "execution_count": 55,
   "metadata": {},
   "outputs": [
    {
     "data": {
      "text/plain": [
       "NaN              292482\n",
       "OtherOrNone        2554\n",
       "Nat Gas            2412\n",
       "Electricity        2242\n",
       "BottledLiquid      1373\n",
       "Oil                  98\n",
       "Name: HeatingSystemFuelSecondary, dtype: int64"
      ]
     },
     "execution_count": 55,
     "metadata": {},
     "output_type": "execute_result"
    }
   ],
   "source": [
    "#Primary Space Heating Fuel \n",
    "#01 = Electricity\n",
    "#02 = Nat Gas\n",
    "#03 = Bottled or Liquified Gas (incl Propane)\n",
    "#04 = Oil (heating/kerosene)\n",
    "#05 = Other or no heat\n",
    "#00 = Not reported\n",
    "\n",
    "#“Other” includes wood, pellets, solar, coal, and other fuels.\n",
    "\n",
    "#In the files for 2008 and 2009, Bottled gas is included\n",
    "#with “02‐Natural gas” rather than being shown separately.\n",
    "column = 'HeatingSystemFuelSecondary'\n",
    "\n",
    "all_data.loc[all_data[column]==1,column]='Electricity'\n",
    "all_data.loc[all_data[column]==2,column]='Nat Gas'\n",
    "all_data.loc[all_data[column]==3,column]='BottledLiquid'\n",
    "all_data.loc[all_data[column]==4,column]='Oil'\n",
    "all_data.loc[all_data[column]==5,column]='OtherOrNone'\n",
    "all_data.loc[all_data[column]==0,column]= np.nan\n",
    "all_data[column] = all_data[column].astype('category')\n",
    "\n",
    "all_data[column].value_counts(dropna=False)"
   ]
  },
  {
   "cell_type": "code",
   "execution_count": 56,
   "metadata": {},
   "outputs": [],
   "source": [
    "#Final Contract Price at Completion\n",
    "#Final contract price reported at the time the house was completed; \n",
    "#whole dollars to nearest $100.\n",
    "#0 = Not applicable or not reported\n",
    "\n",
    "#Applies only to contractor‐built houses. Within each division, \n",
    "#top 3% and bottom 1% of all reported values were changed to those \n",
    "#limits. Unchanged values less than $15,000 were changed to $15,000.\n",
    "\n",
    "column = 'PriceContractAtCompletion'\n",
    "\n",
    "\n",
    "all_data.loc[all_data[column]==0,column]= np.nan\n",
    "#all_data[column].value_counts(dropna=False)"
   ]
  },
  {
   "cell_type": "code",
   "execution_count": 57,
   "metadata": {},
   "outputs": [],
   "source": [
    "#FFinal Sales Price at Completion\n",
    "#Final sales price reported at the time the house was completed; \n",
    "#whole dollars to nearest $100.\n",
    "#0 = Not applicable or not reported\n",
    "\n",
    "\n",
    "column = 'PriceSalesAtCompletion'\n",
    "\n",
    "\n",
    "all_data.loc[all_data[column]==0,column]= np.nan\n",
    "#all_data[column].value_counts(dropna=False)"
   ]
  },
  {
   "cell_type": "code",
   "execution_count": 58,
   "metadata": {},
   "outputs": [],
   "source": [
    "#Permit Authorization Date\n",
    "#When was this house authorized by a building permit?\n",
    "#Usually the month the building permit for the house was issued, \n",
    "#but can vary based on the availability of permits for sampling for \n",
    "#SOC. Set to the start date if the house is in an area where permits\n",
    "#are not required or if the start date was before the issuance of \n",
    "#the final building permit.\n",
    "\n",
    "column = 'PermitAuthorizationDate'\n",
    "\n",
    "all_data.loc[all_data[column]==0,column]= pd.NaT\n",
    "all_data[column] = pd.to_datetime(all_data[column], format='%Y%m', errors='ignore')\n",
    "#all_data.loc[all_data[column]==0,column]= np.nan\n",
    "#all_data[column].value_counts(dropna=False)"
   ]
  },
  {
   "cell_type": "code",
   "execution_count": 59,
   "metadata": {},
   "outputs": [],
   "source": [
    "#File Name\n",
    "\n",
    "\n",
    "column = 'FILENAME'\n",
    "\n",
    "all_data[column] = all_data[column].astype('category')\n",
    "\n",
    "\n",
    "#all_data.loc[all_data[column]==0,column]= np.nan\n",
    "#all_data[column].value_counts(dropna=False)"
   ]
  },
  {
   "cell_type": "markdown",
   "metadata": {},
   "source": [
    "### Check  Data Types\n",
    "Most the data is catagory, number or datetime.  There should be no \n",
    "objects if we have done our job correctly!"
   ]
  },
  {
   "cell_type": "code",
   "execution_count": 60,
   "metadata": {},
   "outputs": [
    {
     "data": {
      "text/plain": [
       "CentralAir                    False\n",
       "RestrictedAge                 False\n",
       "HomeOwnerAssociation          False\n",
       "FoundationType                False\n",
       "BuildReason                   False\n",
       "ClosingCostsInc               False\n",
       "CondominiumProject            False\n",
       "Deck                          False\n",
       "HouseDesign                   False\n",
       "CensusDivision                False\n",
       "FinancingType                 False\n",
       "FinishedBasement              False\n",
       "TwoStoryFoyer                 False\n",
       "FramingMaterial               False\n",
       "Garage                        False\n",
       "HeatingSystemPrimary          False\n",
       "HeatingSystemSecondary        False\n",
       "LaundryLocation               False\n",
       "InMetroArea                   False\n",
       "ConstructionMethod            False\n",
       "Patio                         False\n",
       "Porch                         False\n",
       "SewerType                     False\n",
       "Stories                       False\n",
       "ExteriorMaterialsPrimary      False\n",
       "ExteriorMaterialsSecondary    False\n",
       "ExteriorWallsGtrTwo           False\n",
       "WaterSupply                   False\n",
       "LotSizeSQFT                   False\n",
       "Bedrooms                      False\n",
       "CompletionDate                False\n",
       "FinishedBasementSQFT          False\n",
       "FinishedBasementFinalSQFT     False\n",
       "Fireplaces                    False\n",
       "BathroomsFull                 False\n",
       "BathroomsHalf                 False\n",
       "LotValue                      False\n",
       "PermitValue                   False\n",
       "SaleDate                      False\n",
       "FootageFinalSQFT              False\n",
       "StartDate                     False\n",
       "PriceContract                 False\n",
       "PriceSales                    False\n",
       "FootagePrelimSQFT             False\n",
       "SurveyWieght                  False\n",
       "HeatingSystemFuelPrimary      False\n",
       "HeatingSystemFuelSecondary    False\n",
       "PriceContractAtCompletion     False\n",
       "PriceSalesAtCompletion        False\n",
       "PermitAuthorizationDate       False\n",
       "FILENAME                      False\n",
       "dtype: bool"
      ]
     },
     "execution_count": 60,
     "metadata": {},
     "output_type": "execute_result"
    }
   ],
   "source": [
    "all_data.dtypes == 'object'"
   ]
  },
  {
   "cell_type": "markdown",
   "metadata": {},
   "source": [
    "### Data Manipulation"
   ]
  },
  {
   "cell_type": "code",
   "execution_count": 61,
   "metadata": {},
   "outputs": [],
   "source": [
    "#Could put in this section log transform of the larger values b\n",
    "# but that would only be applicable to machine modeling if that is \n",
    "# what someone would like to do in the future."
   ]
  },
  {
   "cell_type": "markdown",
   "metadata": {},
   "source": [
    "### Save output file into processed directory\n",
    "\n",
    "Save a file in the processed directory that is cleaned properly. It will be read in and used later for further analysis.\n",
    "\n",
    "Other options besides pickle include:\n",
    "- feather\n",
    "- msgpack\n",
    "- parquet"
   ]
  },
  {
   "cell_type": "code",
   "execution_count": 62,
   "metadata": {},
   "outputs": [],
   "source": [
    "feather.write_dataframe(all_data, summary_file)\n",
    "#df = feather.read_dataframe(path)"
   ]
  },
  {
   "cell_type": "code",
   "execution_count": null,
   "metadata": {},
   "outputs": [],
   "source": []
  }
 ],
 "metadata": {
  "kernelspec": {
   "display_name": "Python 3",
   "language": "python",
   "name": "python3"
  },
  "language_info": {
   "codemirror_mode": {
    "name": "ipython",
    "version": 3
   },
   "file_extension": ".py",
   "mimetype": "text/x-python",
   "name": "python",
   "nbconvert_exporter": "python",
   "pygments_lexer": "ipython3",
   "version": "3.7.2"
  }
 },
 "nbformat": 4,
 "nbformat_minor": 1
}
